{
 "cells": [
  {
   "cell_type": "code",
   "execution_count": 1,
   "metadata": {},
   "outputs": [
    {
     "name": "stdout",
     "output_type": "stream",
     "text": [
      "-13 3\n",
      "-10\n"
     ]
    }
   ],
   "source": [
    "#A\n",
    "\n",
    "A, B = map(int, input().split())\n",
    "\n",
    "print(max(A+B, A-B, A*B))\n"
   ]
  },
  {
   "cell_type": "code",
   "execution_count": 5,
   "metadata": {},
   "outputs": [
    {
     "name": "stdout",
     "output_type": "stream",
     "text": [
      "1 1\n",
      "1 "
     ]
    }
   ],
   "source": [
    "#B\n",
    "\n",
    "K, X = map(int, input().split())\n",
    "\n",
    "first = X - K + 1\n",
    "end = X + K - 1\n",
    "\n",
    "for i in list(range(first, end + 1)):\n",
    "    print(\"{} \".format(i), end=\"\")"
   ]
  },
  {
   "cell_type": "code",
   "execution_count": null,
   "metadata": {},
   "outputs": [],
   "source": []
  },
  {
   "cell_type": "code",
   "execution_count": 59,
   "metadata": {},
   "outputs": [
    {
     "name": "stdout",
     "output_type": "stream",
     "text": [
      "5\n",
      "aa\n",
      "aa\n",
      "aa\n",
      "bb\n",
      "bb\n",
      "1\n",
      "2\n",
      "0\n",
      "1\n",
      "4\n"
     ]
    }
   ],
   "source": [
    "#C\n",
    "import math\n",
    "\n",
    "N = int(input())\n",
    "S = []\n",
    "for i in range(N):\n",
    "    S_tmp = str(input())\n",
    "    S_tmp = list(S_tmp)\n",
    "    S_tmp.sort()\n",
    "    S.append(\"\".join(S_tmp))\n",
    "S.sort()\n",
    "\n",
    "count=0\n",
    "x = 0\n",
    "tmp = S[0]\n",
    "count_all = []\n",
    "for i in S[1:]:\n",
    "    if tmp==i:\n",
    "        count+=1\n",
    "    else:\n",
    "        if count>0:\n",
    "            x += math.factorial(count+1)//(math.factorial(count+1-2) * math.factorial(2))\n",
    "        count = 0\n",
    "    tmp = i\n",
    "if count>0:\n",
    "    x += math.factorial(count+1)//(math.factorial(count+1-2) * math.factorial(2))\n",
    "        \n",
    "    tmp = i\n",
    "print(x)"
   ]
  },
  {
   "cell_type": "code",
   "execution_count": 16,
   "metadata": {},
   "outputs": [
    {
     "name": "stdout",
     "output_type": "stream",
     "text": [
      "z\n"
     ]
    },
    {
     "ename": "ValueError",
     "evalue": "invalid literal for int() with base 10: 'z'",
     "output_type": "error",
     "traceback": [
      "\u001b[0;31m---------------------------------------------------------------------------\u001b[0m",
      "\u001b[0;31mValueError\u001b[0m                                Traceback (most recent call last)",
      "\u001b[0;32m<ipython-input-16-33c7bef96f31>\u001b[0m in \u001b[0;36m<module>\u001b[0;34m()\u001b[0m\n\u001b[1;32m      1\u001b[0m \u001b[0;31m#D\u001b[0m\u001b[0;34m\u001b[0m\u001b[0;34m\u001b[0m\u001b[0m\n\u001b[1;32m      2\u001b[0m \u001b[0;34m\u001b[0m\u001b[0m\n\u001b[0;32m----> 3\u001b[0;31m \u001b[0mN\u001b[0m\u001b[0;34m,\u001b[0m \u001b[0mM\u001b[0m \u001b[0;34m=\u001b[0m \u001b[0mmap\u001b[0m\u001b[0;34m(\u001b[0m\u001b[0mint\u001b[0m\u001b[0;34m,\u001b[0m \u001b[0minput\u001b[0m\u001b[0;34m(\u001b[0m\u001b[0;34m)\u001b[0m\u001b[0;34m.\u001b[0m\u001b[0msplit\u001b[0m\u001b[0;34m(\u001b[0m\u001b[0;34m)\u001b[0m\u001b[0;34m)\u001b[0m\u001b[0;34m\u001b[0m\u001b[0m\n\u001b[0m\u001b[1;32m      4\u001b[0m \u001b[0mA\u001b[0m \u001b[0;34m=\u001b[0m \u001b[0;34m[\u001b[0m\u001b[0;34m]\u001b[0m\u001b[0;34m\u001b[0m\u001b[0m\n\u001b[1;32m      5\u001b[0m \u001b[0mB\u001b[0m \u001b[0;34m=\u001b[0m \u001b[0;34m[\u001b[0m\u001b[0;34m]\u001b[0m\u001b[0;34m\u001b[0m\u001b[0m\n",
      "\u001b[0;31mValueError\u001b[0m: invalid literal for int() with base 10: 'z'"
     ]
    }
   ],
   "source": [
    "#D\n",
    "\n",
    "N, M = map(int, input().split())\n",
    "A = []\n",
    "B = []\n",
    "for i in range(N):\n",
    "    A_tmp, B_tmp = map(int, input().split())\n",
    "    A.appned(A_tmp)\n",
    "    B.append(B_tmp)\n",
    "\n",
    "minimum = min(B)\n",
    "if minimum>0:\n",
    "    for i in range(len(B)):\n",
    "        B[i] - minimum+1\n",
    "M = M - minimum +1\n",
    "\n",
    "dict_ = {}\n",
    "for i in list(set(A)):\n",
    "    dict_[i] = []\n",
    "for i in rangeN(N):\n",
    "    dict_[A[i]].append(B[i])\n",
    "\n",
    "for i in dict.keys():\n",
    "    dict_[i].sort()\n",
    "\n",
    "for i in range(0, M):\n",
    "    \n",
    "    \n",
    "    "
   ]
  },
  {
   "cell_type": "code",
   "execution_count": 15,
   "metadata": {},
   "outputs": [
    {
     "data": {
      "text/plain": [
       "[None, None, None, None, None]"
      ]
     },
     "execution_count": 15,
     "metadata": {},
     "output_type": "execute_result"
    }
   ],
   "source": []
  },
  {
   "cell_type": "code",
   "execution_count": null,
   "metadata": {},
   "outputs": [],
   "source": []
  }
 ],
 "metadata": {
  "kernelspec": {
   "display_name": "Python 3",
   "language": "python",
   "name": "python3"
  },
  "language_info": {
   "codemirror_mode": {
    "name": "ipython",
    "version": 3
   },
   "file_extension": ".py",
   "mimetype": "text/x-python",
   "name": "python",
   "nbconvert_exporter": "python",
   "pygments_lexer": "ipython3",
   "version": "3.6.5"
  },
  "varInspector": {
   "cols": {
    "lenName": 16,
    "lenType": 16,
    "lenVar": 40
   },
   "kernels_config": {
    "python": {
     "delete_cmd_postfix": "",
     "delete_cmd_prefix": "del ",
     "library": "var_list.py",
     "varRefreshCmd": "print(var_dic_list())"
    },
    "r": {
     "delete_cmd_postfix": ") ",
     "delete_cmd_prefix": "rm(",
     "library": "var_list.r",
     "varRefreshCmd": "cat(var_dic_list()) "
    }
   },
   "types_to_exclude": [
    "module",
    "function",
    "builtin_function_or_method",
    "instance",
    "_Feature"
   ],
   "window_display": false
  }
 },
 "nbformat": 4,
 "nbformat_minor": 2
}
