{
 "cells": [
  {
   "cell_type": "code",
   "execution_count": 4,
   "metadata": {},
   "outputs": [
    {
     "name": "stdout",
     "output_type": "stream",
     "text": [
      "1123\n",
      "Bad\n"
     ]
    }
   ],
   "source": [
    "# A\n",
    "\n",
    "a = str(input())\n",
    "a = list(a)\n",
    "\n",
    "flag=0\n",
    "tmp = a[0]\n",
    "for i in a[1:]:\n",
    "    if tmp==i:\n",
    "        flag=1\n",
    "    tmp=i\n",
    "if flag==0:\n",
    "    print(\"Good\")\n",
    "else:\n",
    "    print(\"Bad\")\n"
   ]
  },
  {
   "cell_type": "code",
   "execution_count": 60,
   "metadata": {},
   "outputs": [
    {
     "name": "stdout",
     "output_type": "stream",
     "text": [
      "314159265358979323 846264338327950288 419716939 937510582\n",
      "532105071133627392\n"
     ]
    }
   ],
   "source": [
    "# C\n",
    "# import math\n",
    "\n",
    "A, B, C, D = map(int, input().split())\n",
    "\n",
    "num = B-A+1\n",
    "if A%C==0:\n",
    "    x=A\n",
    "else:\n",
    "    x = A-A%C+C\n",
    "if B%C==0:\n",
    "    y=B\n",
    "else:\n",
    "    y = B-B%C\n",
    "C_multi = (y-x)//C+1\n",
    "# print(x)\n",
    "# print(y)\n",
    "# print(C_multi)\n",
    "\n",
    "if A%D==0:\n",
    "    x=A\n",
    "else:\n",
    "    x = A-A%D+D\n",
    "if B%D==0:\n",
    "    y=B\n",
    "else:\n",
    "    y = B-B%D\n",
    "D_multi = (y-x)//D+1\n",
    "# print(x)\n",
    "# print(y)\n",
    "# print(D_multi)\n",
    "\n",
    "\n",
    "a=C\n",
    "b=D\n",
    "while b:\n",
    "    a, b = b, a % b\n",
    "Z = a\n",
    "E = C * D / Z\n",
    "if A%E==0:\n",
    "    x=A\n",
    "else:\n",
    "    x = A-A%E+E\n",
    "if B%E==0:\n",
    "    y=B\n",
    "else:\n",
    "    y = B-B%E\n",
    "E_multi = (y-x)//E+1\n",
    "\n",
    "print(int(num-C_multi-D_multi+E_multi))\n"
   ]
  },
  {
   "cell_type": "code",
   "execution_count": 39,
   "metadata": {},
   "outputs": [
    {
     "name": "stdout",
     "output_type": "stream",
     "text": [
      "2 -1\n",
      "-1\n"
     ]
    }
   ],
   "source": [
    "N, L = map(int, input().split())\n",
    "\n",
    "first = L\n",
    "end = N + L -1\n",
    " \n",
    "\n",
    "if first>=0:\n",
    "    print((first+1 + end)*(N-1)//2)\n",
    "elif (first<=0 and end>=0):\n",
    "    print((first+end)*N//2)\n",
    "else:\n",
    "    print((first + end -1)*(N-1)//2)"
   ]
  },
  {
   "cell_type": "code",
   "execution_count": 24,
   "metadata": {},
   "outputs": [
    {
     "data": {
      "text/plain": [
       "3"
      ]
     },
     "execution_count": 24,
     "metadata": {},
     "output_type": "execute_result"
    }
   ],
   "source": [
    "3%4"
   ]
  }
 ],
 "metadata": {
  "kernelspec": {
   "display_name": "Python 3",
   "language": "python",
   "name": "python3"
  },
  "language_info": {
   "codemirror_mode": {
    "name": "ipython",
    "version": 3
   },
   "file_extension": ".py",
   "mimetype": "text/x-python",
   "name": "python",
   "nbconvert_exporter": "python",
   "pygments_lexer": "ipython3",
   "version": "3.6.5"
  },
  "varInspector": {
   "cols": {
    "lenName": 16,
    "lenType": 16,
    "lenVar": 40
   },
   "kernels_config": {
    "python": {
     "delete_cmd_postfix": "",
     "delete_cmd_prefix": "del ",
     "library": "var_list.py",
     "varRefreshCmd": "print(var_dic_list())"
    },
    "r": {
     "delete_cmd_postfix": ") ",
     "delete_cmd_prefix": "rm(",
     "library": "var_list.r",
     "varRefreshCmd": "cat(var_dic_list()) "
    }
   },
   "types_to_exclude": [
    "module",
    "function",
    "builtin_function_or_method",
    "instance",
    "_Feature"
   ],
   "window_display": false
  }
 },
 "nbformat": 4,
 "nbformat_minor": 2
}
