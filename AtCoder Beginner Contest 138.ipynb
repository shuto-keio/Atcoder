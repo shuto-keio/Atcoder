{
 "cells": [
  {
   "cell_type": "code",
   "execution_count": 2,
   "metadata": {},
   "outputs": [
    {
     "name": "stdout",
     "output_type": "stream",
     "text": [
      "3199\n",
      "pink\n",
      "red\n"
     ]
    }
   ],
   "source": [
    "# A\n",
    "a = int(input())\n",
    "s = str(input())\n",
    "\n",
    "if a>=3200:\n",
    "    print(s)\n",
    "else:\n",
    "    print(\"red\")"
   ]
  },
  {
   "cell_type": "code",
   "execution_count": 5,
   "metadata": {},
   "outputs": [
    {
     "name": "stdout",
     "output_type": "stream",
     "text": [
      "3\n",
      "200 200 200\n",
      "66.66666666666667\n"
     ]
    }
   ],
   "source": [
    "# B\n",
    "N = int(input())\n",
    "A = list(map(int, input().split()))\n",
    "#\n",
    "tmp = 0\n",
    "for i in A:\n",
    "    tmp+=1/i\n",
    "print(1/tmp)"
   ]
  },
  {
   "cell_type": "code",
   "execution_count": 11,
   "metadata": {},
   "outputs": [
    {
     "name": "stdout",
     "output_type": "stream",
     "text": [
      "5\n",
      "138 138 138 138 138\n",
      "138.0\n"
     ]
    }
   ],
   "source": [
    "# C\n",
    "N = int(input())\n",
    "v = list(map(int, input().split()))\n",
    "v.sort()\n",
    "\n",
    "while(len(v)!=2):\n",
    "    v += [(v.pop(0)+v.pop(0))/2]\n",
    "    v.sort()\n",
    "print(sum(v)/2)"
   ]
  },
  {
   "cell_type": "code",
   "execution_count": 39,
   "metadata": {},
   "outputs": [
    {
     "name": "stdout",
     "output_type": "stream",
     "text": [
      "4 3\n",
      "1 2\n",
      "2 3\n",
      "2 4\n",
      "2 10\n",
      "1 100\n",
      "3 1\n",
      "100 110 111 110 "
     ]
    }
   ],
   "source": [
    "# D\n",
    "\n",
    "def add_value(p, x):\n",
    "    value[p-1]+=x\n",
    "    if p in data:\n",
    "        for key in data[p]:\n",
    "            add_value(key, x)\n",
    "\n",
    "N, Q = map(int, input().split())\n",
    "a=[]\n",
    "b=[]\n",
    "\n",
    "data = {}\n",
    "for i in range(N-1):\n",
    "    a, b = map(int, input().split())\n",
    "    if not (a in data):\n",
    "        data[a] = []\n",
    "    data[a].append(b)\n",
    "\n",
    "value = [0]*N\n",
    "\n",
    "for i in range(Q):\n",
    "    p, x = map(int, input().split())\n",
    "    add_value(p, x)\n",
    "\n",
    "for i in value:\n",
    "    print(\"{} \".format(i), end=\"\")\n"
   ]
  },
  {
   "cell_type": "code",
   "execution_count": null,
   "metadata": {},
   "outputs": [],
   "source": []
  },
  {
   "cell_type": "code",
   "execution_count": 20,
   "metadata": {},
   "outputs": [
    {
     "data": {
      "text/plain": [
       "{1: [2], 2: [3, 4]}"
      ]
     },
     "execution_count": 20,
     "metadata": {},
     "output_type": "execute_result"
    }
   ],
   "source": [
    "data"
   ]
  },
  {
   "cell_type": "code",
   "execution_count": 21,
   "metadata": {},
   "outputs": [
    {
     "data": {
      "text/plain": [
       "{1: 0, 2: 0, 3: 0, 4: 0}"
      ]
     },
     "execution_count": 21,
     "metadata": {},
     "output_type": "execute_result"
    }
   ],
   "source": [
    "value"
   ]
  },
  {
   "cell_type": "code",
   "execution_count": null,
   "metadata": {},
   "outputs": [],
   "source": [
    "#E\n",
    "s = list(str(input()))\n",
    "t = list(str(input()))\n",
    "\n",
    "data={}\n",
    "for char in set(t):\n",
    "    for i, j in enumerate(s):\n",
    "        if j==char:\n",
    "            data[j]=i\n",
    "\n",
    "    \n",
    "    "
   ]
  }
 ],
 "metadata": {
  "kernelspec": {
   "display_name": "Python 3",
   "language": "python",
   "name": "python3"
  },
  "language_info": {
   "codemirror_mode": {
    "name": "ipython",
    "version": 3
   },
   "file_extension": ".py",
   "mimetype": "text/x-python",
   "name": "python",
   "nbconvert_exporter": "python",
   "pygments_lexer": "ipython3",
   "version": "3.7.1"
  }
 },
 "nbformat": 4,
 "nbformat_minor": 2
}
