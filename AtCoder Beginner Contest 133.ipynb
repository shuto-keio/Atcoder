{
 "cells": [
  {
   "cell_type": "code",
   "execution_count": 2,
   "metadata": {},
   "outputs": [
    {
     "name": "stdout",
     "output_type": "stream",
     "text": [
      "4 2 9\n",
      "8\n"
     ]
    }
   ],
   "source": [
    "# A\n",
    "#O\n",
    "\n",
    "N, A, B = map(int, input().split())\n",
    "\n",
    "train = A*N\n",
    "taxi = B\n",
    "\n",
    "if train>=taxi:\n",
    "    print(taxi)\n",
    "else:\n",
    "    print(train)\n",
    "\n"
   ]
  },
  {
   "cell_type": "code",
   "execution_count": 12,
   "metadata": {},
   "outputs": [
    {
     "name": "stdout",
     "output_type": "stream",
     "text": [
      "3 4\n",
      "-3 7 8 2\n",
      "-12 1 10 2\n",
      "-2 8 9 3\n",
      "2\n"
     ]
    }
   ],
   "source": [
    "# B\n",
    "#O\n",
    "\n",
    "N, D= map(int, input().split())\n",
    "\n",
    "# 文字列の入力\n",
    "X = []\n",
    "for i in range(N):\n",
    "    X.append(list(map(int, input().split())))\n",
    "\n",
    "count=0\n",
    "\n",
    "for i in range(len(X)-1):\n",
    "    for j in range(i+1, len(X)):\n",
    "        tmp=0\n",
    "        for k in range(D):\n",
    "            tmp+=(X[i][k]-X[j][k])**2\n",
    "        tmp=tmp**0.5\n",
    "        if tmp.is_integer():\n",
    "            count+=1\n",
    "print(count)\n",
    "\n"
   ]
  },
  {
   "cell_type": "code",
   "execution_count": 8,
   "metadata": {},
   "outputs": [
    {
     "name": "stdout",
     "output_type": "stream",
     "text": [
      "2020 2040\n",
      "2\n"
     ]
    }
   ],
   "source": [
    "# C\n",
    "#TLE\n",
    "\n",
    "L, R = map(int, input().split())\n",
    "\n",
    "minimum=2019\n",
    "z=1\n",
    "for i in range(L, R):\n",
    "    for j in range(i+1, R+1):\n",
    "        tmp = (i*j)%2019\n",
    "        if minimum>tmp:\n",
    "            minimum = tmp    \n",
    "print(minimum)\n"
   ]
  },
  {
   "cell_type": "code",
   "execution_count": 9,
   "metadata": {},
   "outputs": [
    {
     "name": "stdout",
     "output_type": "stream",
     "text": [
      "2020 2040\n",
      "2\n"
     ]
    }
   ],
   "source": [
    "#C\n",
    "#Answer\n",
    "L, R = map(int, input().split())\n",
    "\n",
    "minimum=2019\n",
    "z=0\n",
    "for i in range(L, R+1):\n",
    "    for j in range(i+1, R+1):\n",
    "        tmp = (i*j)%2019\n",
    "        if minimum>tmp:\n",
    "            minimum = tmp\n",
    "        if minimum==0:\n",
    "            z=1\n",
    "            break\n",
    "    if z==1:\n",
    "        break\n",
    "    \n",
    "print(minimum)"
   ]
  },
  {
   "cell_type": "code",
   "execution_count": 3,
   "metadata": {},
   "outputs": [
    {
     "name": "stdout",
     "output_type": "stream",
     "text": [
      "5\n",
      "3 8 7 5 5\n",
      "2 4 12 2 8 "
     ]
    }
   ],
   "source": [
    "# D\n",
    "#TLE\n",
    "\n",
    "N = int(input())\n",
    "\n",
    "A = list(map(int, input().split()))\n",
    "\n",
    "sum_water = sum(A)\n",
    "A = A[1:] + A[0:N-2]\n",
    "for i in range(N):\n",
    "    tmp=sum_water\n",
    "    for j in range((N-1)//2):\n",
    "        tmp-=A[i+j*2]*2\n",
    "    print(tmp, end=\"\")\n",
    "    print(\" \", end=\"\")\n"
   ]
  },
  {
   "cell_type": "code",
   "execution_count": 7,
   "metadata": {},
   "outputs": [
    {
     "name": "stdout",
     "output_type": "stream",
     "text": [
      "5\n",
      "3 8 7 5 5\n",
      "2 4 12 2 8 "
     ]
    }
   ],
   "source": [
    "#D\n",
    "#Answer\n",
    "N = int(input())\n",
    "A = list(map(int, input().split()))\n",
    "\n",
    "sum_water = sum(A)\n",
    "\n",
    "tmp=sum_water\n",
    "for j in range((N-1)//2):\n",
    "    tmp-=A[j*2+1]*2\n",
    "print(tmp, end=\"\")\n",
    "print(\" \", end=\"\")\n",
    "\n",
    "for i in A[:-1]:\n",
    "    tmp = 2*i - tmp\n",
    "    print(tmp, end=\"\")\n",
    "    print(\" \", end=\"\")\n"
   ]
  }
 ],
 "metadata": {
  "kernelspec": {
   "display_name": "Python 3",
   "language": "python",
   "name": "python3"
  },
  "language_info": {
   "codemirror_mode": {
    "name": "ipython",
    "version": 3
   },
   "file_extension": ".py",
   "mimetype": "text/x-python",
   "name": "python",
   "nbconvert_exporter": "python",
   "pygments_lexer": "ipython3",
   "version": "3.6.5"
  },
  "varInspector": {
   "cols": {
    "lenName": 16,
    "lenType": 16,
    "lenVar": 40
   },
   "kernels_config": {
    "python": {
     "delete_cmd_postfix": "",
     "delete_cmd_prefix": "del ",
     "library": "var_list.py",
     "varRefreshCmd": "print(var_dic_list())"
    },
    "r": {
     "delete_cmd_postfix": ") ",
     "delete_cmd_prefix": "rm(",
     "library": "var_list.r",
     "varRefreshCmd": "cat(var_dic_list()) "
    }
   },
   "types_to_exclude": [
    "module",
    "function",
    "builtin_function_or_method",
    "instance",
    "_Feature"
   ],
   "window_display": false
  }
 },
 "nbformat": 4,
 "nbformat_minor": 2
}
