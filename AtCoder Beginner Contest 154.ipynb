{
 "cells": [
  {
   "cell_type": "code",
   "execution_count": 1,
   "metadata": {},
   "outputs": [
    {
     "name": "stdout",
     "output_type": "stream",
     "text": [
      "red blue\n",
      "3 4\n",
      "red\n",
      "2 4\n"
     ]
    }
   ],
   "source": [
    "# A\n",
    "S, T = list(map(str, input().split()))\n",
    "A, B = list(map(int, input().split()))\n",
    "U = str(input())\n",
    "\n",
    "if S==U:\n",
    "    print(\"{} {}\".format(A-1, B))\n",
    "elif T==U:\n",
    "    print(\"{} {}\".format(A, B-1))\n",
    "else:\n",
    "    print(\"{} {}\".formata(A, B))"
   ]
  },
  {
   "cell_type": "code",
   "execution_count": 2,
   "metadata": {},
   "outputs": [
    {
     "name": "stdout",
     "output_type": "stream",
     "text": [
      "sardine\n",
      "xxxxxxx\n"
     ]
    }
   ],
   "source": [
    "# B\n",
    "S = str(input())\n",
    "\n",
    "ans = \"x\"\n",
    "\n",
    "print(ans*len(S))"
   ]
  },
  {
   "cell_type": "code",
   "execution_count": 3,
   "metadata": {},
   "outputs": [
    {
     "name": "stdout",
     "output_type": "stream",
     "text": [
      "6\n",
      "4 1 3 1 6 2\n",
      "No\n"
     ]
    }
   ],
   "source": [
    "# C\n",
    "N = int(input())\n",
    "A = list(map(int, input().split()))\n",
    "\n",
    "set_A = set(A)\n",
    "\n",
    "if len(set_A)==len(A):\n",
    "    print(\"YES\")\n",
    "else:\n",
    "    print(\"NO\")"
   ]
  },
  {
   "cell_type": "code",
   "execution_count": 19,
   "metadata": {},
   "outputs": [
    {
     "name": "stdout",
     "output_type": "stream",
     "text": [
      "4 1\n",
      "6 6 6 6\n",
      "3.5\n"
     ]
    }
   ],
   "source": [
    "# D\n",
    "N, K = list(map(int, input().split()))\n",
    "p = list(map(int, input().split()))\n",
    "\n",
    "for i in range(N):\n",
    "    p[i] = (1+p[i])/2\n",
    "\n",
    "ans = 0\n",
    "for i in range(0, N-K+1):\n",
    "    ans_tmp = sum(p[i:i+K])\n",
    "    ans = max(ans, ans_tmp)\n",
    "    \n",
    "print(ans)"
   ]
  },
  {
   "cell_type": "code",
   "execution_count": 23,
   "metadata": {},
   "outputs": [
    {
     "name": "stdout",
     "output_type": "stream",
     "text": [
      "5 3\n",
      "1 2 2 4 5\n",
      "7.0\n"
     ]
    }
   ],
   "source": [
    "# D\n",
    "N, K = list(map(int, input().split()))\n",
    "p = list(map(int, input().split()))\n",
    "\n",
    "ans = 0\n",
    "for i in range(0, N-K+1):\n",
    "    ans_tmp = sum(p[i:i+K])\n",
    "    ans = max(ans, ans_tmp)\n",
    "\n",
    "ans = (ans+K)/2\n",
    "\n",
    "print(ans)"
   ]
  },
  {
   "cell_type": "code",
   "execution_count": 54,
   "metadata": {
    "scrolled": true
   },
   "outputs": [
    {
     "name": "stdout",
     "output_type": "stream",
     "text": [
      "10 4\n",
      "17 13 13 12 15 20 10 13 17 11\n",
      "32.0\n"
     ]
    }
   ],
   "source": [
    "# D\n",
    "\n",
    "N, K = list(map(int, input().split()))\n",
    "p = list(map(int, input().split()))\n",
    "\n",
    "ans = sum(p[0:K])\n",
    "ans_tmp = ans\n",
    "for i in range(K, N):\n",
    "#    print(p)\n",
    "#    print(-p[i-K] + p[K])\n",
    "    ans_tmp = ans_tmp - p[i-K] + p[i]\n",
    "#    print(ans_tmp)\n",
    "    ans = max(ans, ans_tmp)\n",
    "\n",
    "ans = (ans+K)/2\n",
    "\n",
    "print(ans)"
   ]
  },
  {
   "cell_type": "code",
   "execution_count": 99,
   "metadata": {},
   "outputs": [
    {
     "name": "stdout",
     "output_type": "stream",
     "text": [
      "12\n",
      "[[1 0]\n",
      " [1 0]]\n",
      "[[1 0]\n",
      " [5 0]]\n",
      "0\n"
     ]
    }
   ],
   "source": [
    "# E\n",
    "N = int(input())\n",
    "# K = int(input())\n",
    "\n",
    "str_N = str(N)\n",
    "num_N = len(str(N))\n",
    "\n",
    "dp = [[[0]*2 for _ in range(2)] for _ in range(num_N+1)]\n",
    "dp[0][0][0] = 1\n",
    "\n",
    "for i in range(num_N):\n",
    "    for smaller in range(2):\n",
    "        for j in range(2):\n",
    "            for x in range(0, int(str_N[i])+1):\n",
    "                cond1 = smaller or x<int(str_N[i])\n",
    "                cond2 = j or x==3\n",
    "                dp[i+1][int(cond1)][int(cond2)] += dp[i][smaller][j]\n",
    "    print(np.array(dp[i+1]))\n",
    "\n",
    "print(dp[i+1][0][1]+dp[i+1][1][1])"
   ]
  },
  {
   "cell_type": "code",
   "execution_count": null,
   "metadata": {},
   "outputs": [],
   "source": [
    "# E\n",
    "N = int(input())\n",
    "K = int(input())\n",
    "\n",
    "\n"
   ]
  },
  {
   "cell_type": "code",
   "execution_count": 102,
   "metadata": {},
   "outputs": [
    {
     "name": "stdout",
     "output_type": "stream",
     "text": [
      "125\n",
      "1\n",
      "19\n"
     ]
    }
   ],
   "source": [
    "# E\n",
    "s = input()\n",
    "K = int(input())\n",
    "n = len(s)\n",
    " \n",
    "dp = [[[0 for _ in range(2)] for _ in range(4)] for _ in range(n+5)]\n",
    " \n",
    "dp[0][0][0] = 1\n",
    " \n",
    "for i in range(n):\n",
    "    for j in range(4):\n",
    "        for k in range(2):\n",
    "            nd = int(s[i])  # 今見ている桁の数値\n",
    "            for d in range(10):\n",
    "                nj = j\n",
    "                nk = k\n",
    "                if d != 0:  # 0以外が一個増える\n",
    "                    nj += 1\n",
    "                if nj > K:  # これ以上0以外使えないとき\n",
    "                    continue\n",
    "                if k == 0:  # そこまでの桁はNと一致しているとき\n",
    "                    if d > nd:  # Nを超えてしまう\n",
    "                        continue\n",
    "                    if d < nd:  # N以下確定である\n",
    "                        nk = 1\n",
    "                dp[i+1][nj][nk] += dp[i][j][k]\n",
    "ans = dp[n][K][0] + dp[n][K][1]\n",
    " \n",
    "print(ans)"
   ]
  },
  {
   "cell_type": "code",
   "execution_count": 103,
   "metadata": {},
   "outputs": [
    {
     "data": {
      "text/plain": [
       "[[[1, 0], [0, 0], [0, 0], [0, 0]],\n",
       " [[0, 1], [1, 0], [0, 0], [0, 0]],\n",
       " [[0, 1], [0, 10], [0, 0], [0, 0]],\n",
       " [[0, 1], [0, 19], [0, 0], [0, 0]],\n",
       " [[0, 0], [0, 0], [0, 0], [0, 0]],\n",
       " [[0, 0], [0, 0], [0, 0], [0, 0]],\n",
       " [[0, 0], [0, 0], [0, 0], [0, 0]],\n",
       " [[0, 0], [0, 0], [0, 0], [0, 0]]]"
      ]
     },
     "execution_count": 103,
     "metadata": {},
     "output_type": "execute_result"
    }
   ],
   "source": [
    "dp"
   ]
  }
 ],
 "metadata": {
  "kernelspec": {
   "display_name": "Python 3",
   "language": "python",
   "name": "python3"
  },
  "language_info": {
   "codemirror_mode": {
    "name": "ipython",
    "version": 3
   },
   "file_extension": ".py",
   "mimetype": "text/x-python",
   "name": "python",
   "nbconvert_exporter": "python",
   "pygments_lexer": "ipython3",
   "version": "3.8.1"
  }
 },
 "nbformat": 4,
 "nbformat_minor": 4
}
