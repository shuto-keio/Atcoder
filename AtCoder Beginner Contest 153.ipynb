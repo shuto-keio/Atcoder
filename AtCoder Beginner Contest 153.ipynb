{
 "cells": [
  {
   "cell_type": "code",
   "execution_count": 3,
   "metadata": {},
   "outputs": [
    {
     "name": "stdout",
     "output_type": "stream",
     "text": [
      "10000 1\n",
      "10000\n"
     ]
    }
   ],
   "source": [
    "# A\n",
    "import math\n",
    "H, A = map(int, input().split())\n",
    "\n",
    "print(math.ceil(H/A))"
   ]
  },
  {
   "cell_type": "code",
   "execution_count": 7,
   "metadata": {},
   "outputs": [
    {
     "name": "stdout",
     "output_type": "stream",
     "text": [
      "211 5\n",
      "31 41 59 26 53\n",
      "No\n"
     ]
    }
   ],
   "source": [
    "# B\n",
    "H, N = map(int, input().split())\n",
    "A = list(map(int, input().split()))\n",
    "\n",
    "if H>sum(A):\n",
    "    print(\"No\")\n",
    "else:\n",
    "    print(\"Yes\")"
   ]
  },
  {
   "cell_type": "code",
   "execution_count": 13,
   "metadata": {},
   "outputs": [
    {
     "name": "stdout",
     "output_type": "stream",
     "text": [
      "3 0\n",
      "1000000000 1000000000 1000000000\n",
      "3000000000\n"
     ]
    }
   ],
   "source": [
    "#  C\n",
    "N, K = map(int, input().split())\n",
    "H = list(map(int, input().split()))\n",
    "\n",
    "H.sort(reverse=True)\n",
    "\n",
    "if N <= K:\n",
    "    print(0)\n",
    "else:\n",
    "    print(sum(H[K:]))"
   ]
  },
  {
   "cell_type": "code",
   "execution_count": 2,
   "metadata": {},
   "outputs": [
    {
     "name": "stdout",
     "output_type": "stream",
     "text": [
      "1000000000000\n",
      "1099511627775\n"
     ]
    }
   ],
   "source": [
    "# D\n",
    "import math\n",
    "def touhi(a,r,n):\n",
    "    return a*(pow(r, n) - 1)//(r-1)\n",
    "H = int(input()) \n",
    "n = math.floor(math.log2(H))+1\n",
    "print(touhi(a=1, r=2, n=n))"
   ]
  },
  {
   "cell_type": "code",
   "execution_count": null,
   "metadata": {},
   "outputs": [],
   "source": [
    "# E\n",
    "H, N = map(int, input().split())\n",
    "A = []\n",
    "B = []\n",
    "for i in range(N):\n",
    "    tmp1, tmp2 = map(int, input().split())\n",
    "    A.append(tmp1)\n",
    "    B.append(tmp2)\n"
   ]
  },
  {
   "cell_type": "code",
   "execution_count": null,
   "metadata": {},
   "outputs": [],
   "source": [
    "def knapsack(N,W,weight,value):\n",
    "  #初期化\n",
    "  inf=float(\"inf\")\n",
    "  dp=[[-inf for i in range(W+1)] for j in range(N+1)]\n",
    "  for i in range(W+1): dp[0][i]=0\n",
    "\n",
    "  #DP\n",
    "  for i in range(N):\n",
    "    for w in range(W+1):\n",
    "      if weight[i]<=w: #dp[i][w-weight[i]の状態にi番目の荷物が入る可能性がある\n",
    "        dp[i+1][w]=max(dp[i][w-weight[i]]+value[i], dp[i][w])\n",
    "      else: #入る可能性はない\n",
    "        dp[i+1][w]=dp[i][w]\n",
    "  return dp[N][W]"
   ]
  },
  {
   "cell_type": "code",
   "execution_count": null,
   "metadata": {},
   "outputs": [],
   "source": [
    "def min_num_part_sum(a,A):\n",
    "  #初期化\n",
    "  N=len(a)\n",
    "  inf=float(\"inf\")\n",
    "  dp=[[inf for i in range(A+1)] for j in range(N+1)]\n",
    "  dp[0][0]=0\n",
    "\n",
    "  #DP\n",
    "  for i in range(N):\n",
    "    for j in range(A+1):\n",
    "      if a[i]<=j: #i+1番目の数字a[i]を足せるかも\n",
    "        dp[i+1][j]=min(dp[i][j-a[i]]+1, dp[i][j])\n",
    "      else: #入る可能性はない\n",
    "        dp[i+1][j]=dp[i][j]\n",
    "  return dp[N][A]"
   ]
  }
 ],
 "metadata": {
  "kernelspec": {
   "display_name": "Python 3",
   "language": "python",
   "name": "python3"
  },
  "language_info": {
   "codemirror_mode": {
    "name": "ipython",
    "version": 3
   },
   "file_extension": ".py",
   "mimetype": "text/x-python",
   "name": "python",
   "nbconvert_exporter": "python",
   "pygments_lexer": "ipython3",
   "version": "3.7.1"
  }
 },
 "nbformat": 4,
 "nbformat_minor": 2
}
