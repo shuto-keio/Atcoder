{
 "cells": [
  {
   "cell_type": "code",
   "execution_count": null,
   "metadata": {},
   "outputs": [],
   "source": [
    "# A\n",
    "a = int(input())\n",
    "\n",
    "print(3*a*a)"
   ]
  },
  {
   "cell_type": "code",
   "execution_count": null,
   "metadata": {},
   "outputs": [],
   "source": [
    "# B\n",
    "\n",
    "N, D = map(int, input().split())\n",
    "\n",
    "X = N / (1+2*D)\n",
    "Y = N // (1+2*D)\n",
    "if X==Y:\n",
    "    print(Y)\n",
    "else:\n",
    "    print(Y+1)"
   ]
  },
  {
   "cell_type": "code",
   "execution_count": null,
   "metadata": {},
   "outputs": [],
   "source": [
    "# C\n",
    "N = int(input())\n",
    "A = []\n",
    "for i in range(N):\n",
    "    A.append(int(input()))\n",
    "A_sort = sorted(A, reverse=True)\n",
    "\n",
    "\n",
    "for i in range(N):\n",
    "    if A[i] == A_sort[0]:\n",
    "        print(A_sort[1])\n",
    "    else:\n",
    "        print(A_sort[0])"
   ]
  },
  {
   "cell_type": "code",
   "execution_count": 3,
   "metadata": {},
   "outputs": [
    {
     "name": "stdout",
     "output_type": "stream",
     "text": [
      "6\n",
      "1 0 0 1 0 1\n",
      "3\n",
      "3 4 6 "
     ]
    },
    {
     "data": {
      "text/plain": [
       "[0, 0, 1, 1, 0, 1]"
      ]
     },
     "execution_count": 3,
     "metadata": {},
     "output_type": "execute_result"
    }
   ],
   "source": [
    "# D\n",
    "N = int(input())\n",
    "\n",
    "a = list(map(int, input().split()))\n",
    "\n",
    "X=[0]*N\n",
    "for i in range(N, 0, -1):\n",
    "    j=1\n",
    "    tmp=0\n",
    "    while(i*j<=N):\n",
    "        tmp+=X[i*j-1]\n",
    "        j+=1\n",
    "    if tmp%2 == a[i-1]:\n",
    "        X[i-1]=0\n",
    "    else:\n",
    "        X[i-1]=1\n",
    "    \n",
    "print(sum(X))\n",
    "for i, j in enumerate(X):\n",
    "    if j == 1:\n",
    "        print(str(i+1) + \" \", end=\"\")\n",
    "\n"
   ]
  },
  {
   "cell_type": "code",
   "execution_count": null,
   "metadata": {},
   "outputs": [],
   "source": [
    "X"
   ]
  }
 ],
 "metadata": {
  "kernelspec": {
   "display_name": "Python 3",
   "language": "python",
   "name": "python3"
  },
  "language_info": {
   "codemirror_mode": {
    "name": "ipython",
    "version": 3
   },
   "file_extension": ".py",
   "mimetype": "text/x-python",
   "name": "python",
   "nbconvert_exporter": "python",
   "pygments_lexer": "ipython3",
   "version": "3.6.5"
  },
  "varInspector": {
   "cols": {
    "lenName": 16,
    "lenType": 16,
    "lenVar": 40
   },
   "kernels_config": {
    "python": {
     "delete_cmd_postfix": "",
     "delete_cmd_prefix": "del ",
     "library": "var_list.py",
     "varRefreshCmd": "print(var_dic_list())"
    },
    "r": {
     "delete_cmd_postfix": ") ",
     "delete_cmd_prefix": "rm(",
     "library": "var_list.r",
     "varRefreshCmd": "cat(var_dic_list()) "
    }
   },
   "types_to_exclude": [
    "module",
    "function",
    "builtin_function_or_method",
    "instance",
    "_Feature"
   ],
   "window_display": false
  }
 },
 "nbformat": 4,
 "nbformat_minor": 2
}
