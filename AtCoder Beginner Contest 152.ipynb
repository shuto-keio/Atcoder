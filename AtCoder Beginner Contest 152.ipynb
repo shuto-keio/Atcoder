{
 "cells": [
  {
   "cell_type": "code",
   "execution_count": 1,
   "metadata": {},
   "outputs": [
    {
     "name": "stdout",
     "output_type": "stream",
     "text": [
      "3 3\n",
      "Yes\n"
     ]
    }
   ],
   "source": [
    "# A\n",
    "N, M = map(int, input().split())\n",
    "\n",
    "if N==M:\n",
    "    print(\"Yes\")\n",
    "else:\n",
    "    print(\"No\")"
   ]
  },
  {
   "cell_type": "code",
   "execution_count": 3,
   "metadata": {},
   "outputs": [
    {
     "name": "stdout",
     "output_type": "stream",
     "text": [
      "4 3\n",
      "3333\n"
     ]
    }
   ],
   "source": [
    "# B\n",
    "N, M = map(int, input().split())\n",
    "\n",
    "x = str(N)*M\n",
    "y = str(M)*N\n",
    "\n",
    "aa = [x, y]\n",
    "\n",
    "aa.sort()\n",
    "\n",
    "print(aa[0])"
   ]
  },
  {
   "cell_type": "code",
   "execution_count": 10,
   "metadata": {},
   "outputs": [
    {
     "name": "stdout",
     "output_type": "stream",
     "text": [
      "1\n",
      "1\n",
      "1\n"
     ]
    }
   ],
   "source": [
    "#C\n",
    "N = int(input()) \n",
    "P = list(map(int, input().split()))\n",
    "\n",
    "num = 1\n",
    "pre = P[0]\n",
    "for i in range(1, N):\n",
    "    if P[i]<=pre:\n",
    "        num+=1\n",
    "        pre = P[i]\n",
    "print(num)"
   ]
  },
  {
   "cell_type": "code",
   "execution_count": 102,
   "metadata": {
    "scrolled": true
   },
   "outputs": [
    {
     "name": "stdout",
     "output_type": "stream",
     "text": [
      "25\n",
      "17\n"
     ]
    }
   ],
   "source": [
    "# D\n",
    "N = int(input()) \n",
    "\n",
    "ans=0\n",
    "d = [10*[0] for _ in range(10)]\n",
    "\n",
    "for i in range(1, N+1):\n",
    "    s = str(i)\n",
    "    if s[0]==\"0\" or s[-1]==\"0\":\n",
    "        continue\n",
    "    d[int(s[0])][int(s[-1])]+=1\n",
    "    \n",
    "for i in range(10):\n",
    "    for j in range(10):\n",
    "        ans+=d[i][j]*d[j][i]\n",
    "print(ans)\n"
   ]
  },
  {
   "cell_type": "code",
   "execution_count": 1,
   "metadata": {
    "scrolled": false
   },
   "outputs": [
    {
     "name": "stdout",
     "output_type": "stream",
     "text": [
      "3\n",
      "9999999\n",
      "1\n"
     ]
    },
    {
     "name": "stderr",
     "output_type": "stream",
     "text": [
      "/Users/shuto/.pyenv/versions/3.7.1/lib/python3.7/site-packages/ipykernel_launcher.py:9: DeprecationWarning: fractions.gcd() is deprecated. Use math.gcd() instead.\n",
      "  if __name__ == '__main__':\n"
     ]
    }
   ],
   "source": [
    "# E\n",
    "from fractions import gcd\n",
    "\n",
    "N = int(input()) \n",
    "A = list(map(int, input().split()))\n",
    "\n",
    "value = 1\n",
    "for a in A:\n",
    "    value = value * a // gcd(value, a)\n",
    "\n",
    "mod = 10**9+7\n",
    "\n",
    "ans = 0\n",
    "for i in A:\n",
    "    ans += value // i\n",
    "\n",
    "print(ans%mod)\n"
   ]
  },
  {
   "cell_type": "code",
   "execution_count": null,
   "metadata": {},
   "outputs": [],
   "source": []
  },
  {
   "cell_type": "code",
   "execution_count": null,
   "metadata": {},
   "outputs": [],
   "source": []
  }
 ],
 "metadata": {
  "kernelspec": {
   "display_name": "Python 3",
   "language": "python",
   "name": "python3"
  },
  "language_info": {
   "codemirror_mode": {
    "name": "ipython",
    "version": 3
   },
   "file_extension": ".py",
   "mimetype": "text/x-python",
   "name": "python",
   "nbconvert_exporter": "python",
   "pygments_lexer": "ipython3",
   "version": "3.7.1"
  }
 },
 "nbformat": 4,
 "nbformat_minor": 2
}
