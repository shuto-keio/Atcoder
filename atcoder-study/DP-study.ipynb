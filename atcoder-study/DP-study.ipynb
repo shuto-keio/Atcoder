{
 "cells": [
  {
   "cell_type": "markdown",
   "metadata": {},
   "source": [
    "[動的計画法超入門！ Educational DP Contest の A ～ E 問題の解説と類題集\n",
    "](https://qiita.com/drken/items/dc53c683d6de8aeacf5a)\n",
    "\n",
    "[Educational DP Contest / DP まとめコンテスト](https://atcoder.jp/contests/dp/)"
   ]
  },
  {
   "cell_type": "code",
   "execution_count": 12,
   "metadata": {},
   "outputs": [
    {
     "name": "stdout",
     "output_type": "stream",
     "text": [
      "6\n",
      "30 10 60 10 60 50\n",
      "40\n"
     ]
    }
   ],
   "source": [
    "# A\n",
    "N = int(input())\n",
    "h = list(map(int, input().split()))\n",
    "\n",
    "cost = [0]*N\n",
    "\n",
    "cost[0] = 0\n",
    "cost[1] = abs(h[1]-h[0])\n",
    "for i in range(2,N):\n",
    "    cost1 = abs(h[i]-h[i-1]) + cost[i-1]\n",
    "    cost2 = abs(h[i]-h[i-2]) + cost[i-2]\n",
    "    cost[i] = min(cost1, cost2)\n",
    "print(cost[-1])"
   ]
  },
  {
   "cell_type": "code",
   "execution_count": null,
   "metadata": {},
   "outputs": [],
   "source": [
    "# B(TLE/2104ms)\n",
    "import numpy as np\n",
    "\n",
    "N, K = map(int, input().split())\n",
    "h = list(map(int, input().split()))\n",
    "\n",
    "cost = [0]*N\n",
    "\n",
    "cost[0] = 0\n",
    "for i in range(1,N):\n",
    "    cost_tmp = []\n",
    "    for j in range(0,min(K,i)):\n",
    "        cost_tmp.append(abs(h[i - (1+j)] - h[i]) + cost[i - (1+j)])\n",
    "    cost[i] = min(cost_tmp)\n",
    "\n",
    "print(cost[-1])\n"
   ]
  },
  {
   "cell_type": "code",
   "execution_count": 26,
   "metadata": {},
   "outputs": [
    {
     "name": "stdout",
     "output_type": "stream",
     "text": [
      "4 3\n",
      "1 2 3 4\n",
      "3\n"
     ]
    }
   ],
   "source": [
    "# B\n",
    "\n",
    "import numpy as np\n",
    "N, K = map(int, input().split())\n",
    "h = np.array(list(map(int, input().split())))\n",
    "cost = np.zeros(N, dtype=\"int32\")\n",
    "\n",
    "cost[0] = 0\n",
    "for i in range(1,N):\n",
    "    start = 0 if i < K else i-K\n",
    "    cost[i] = np.min(cost[start:i] + np.abs(h[i]-h[start:i]))\n",
    "\n",
    "print(cost[-1])"
   ]
  },
  {
   "cell_type": "code",
   "execution_count": 5,
   "metadata": {},
   "outputs": [
    {
     "name": "stdout",
     "output_type": "stream",
     "text": [
      "1\n",
      "1 1 1\n",
      "1\n"
     ]
    }
   ],
   "source": [
    "# C\n",
    "N = int(input())\n",
    "abc = [list(map(int, input().split())) for i in range(N)]\n",
    "\n",
    "da, db, dc = 0, 0, 0\n",
    "\n",
    "for a, b, c in abc:\n",
    "    na = max(db, dc) + a\n",
    "    nb = max(da, dc) + b\n",
    "    nc = max(da, db) + c\n",
    "    da = na\n",
    "    db = nb\n",
    "    dc = nc\n",
    "    \n",
    "print(max(na, nb, nc))"
   ]
  },
  {
   "cell_type": "code",
   "execution_count": 15,
   "metadata": {},
   "outputs": [
    {
     "name": "stdout",
     "output_type": "stream",
     "text": [
      "1\n"
     ]
    },
    {
     "ename": "ValueError",
     "evalue": "not enough values to unpack (expected 2, got 1)",
     "output_type": "error",
     "traceback": [
      "\u001b[0;31m---------------------------------------------------------------------------\u001b[0m",
      "\u001b[0;31mValueError\u001b[0m                                Traceback (most recent call last)",
      "\u001b[0;32m<ipython-input-15-725f673f08ff>\u001b[0m in \u001b[0;36m<module>\u001b[0;34m\u001b[0m\n\u001b[1;32m      2\u001b[0m \u001b[0;32mimport\u001b[0m \u001b[0mnumpy\u001b[0m \u001b[0;32mas\u001b[0m \u001b[0mnp\u001b[0m\u001b[0;34m\u001b[0m\u001b[0;34m\u001b[0m\u001b[0m\n\u001b[1;32m      3\u001b[0m \u001b[0;34m\u001b[0m\u001b[0m\n\u001b[0;32m----> 4\u001b[0;31m \u001b[0mN\u001b[0m\u001b[0;34m,\u001b[0m \u001b[0mW\u001b[0m \u001b[0;34m=\u001b[0m \u001b[0mlist\u001b[0m\u001b[0;34m(\u001b[0m\u001b[0mmap\u001b[0m\u001b[0;34m(\u001b[0m\u001b[0mint\u001b[0m\u001b[0;34m,\u001b[0m \u001b[0minput\u001b[0m\u001b[0;34m(\u001b[0m\u001b[0;34m)\u001b[0m\u001b[0;34m.\u001b[0m\u001b[0msplit\u001b[0m\u001b[0;34m(\u001b[0m\u001b[0;34m)\u001b[0m\u001b[0;34m)\u001b[0m\u001b[0;34m)\u001b[0m\u001b[0;34m\u001b[0m\u001b[0;34m\u001b[0m\u001b[0m\n\u001b[0m\u001b[1;32m      5\u001b[0m \u001b[0;34m\u001b[0m\u001b[0m\n\u001b[1;32m      6\u001b[0m \u001b[0mweight\u001b[0m \u001b[0;34m=\u001b[0m \u001b[0;34m[\u001b[0m\u001b[0;34m]\u001b[0m\u001b[0;34m\u001b[0m\u001b[0;34m\u001b[0m\u001b[0m\n",
      "\u001b[0;31mValueError\u001b[0m: not enough values to unpack (expected 2, got 1)"
     ]
    }
   ],
   "source": [
    "# D\n",
    "import numpy as np\n",
    "\n",
    "N, W = list(map(int, input().split()))\n",
    "\n",
    "weight = []\n",
    "value = []\n",
    "for i in range(N):\n",
    "    x, y = list(map(int, input().split()))\n",
    "    weight.append(x)\n",
    "    value.append(y)\n",
    "\n",
    "def knapsack(N,W,weight,value):\n",
    "    #初期化\n",
    "    inf=float(\"inf\")\n",
    "    dp=[[-inf for i in range(W+1)] for j in range(N+1)]\n",
    "    for i in range(W+1): dp[0][i]=0\n",
    "\n",
    "    #DP\n",
    "    for i in range(N):\n",
    "        for w in range(W+1):\n",
    "          if weight[i]<=w: #dp[i][w-weight[i]の状態にi番目の荷物が入る可能性がある\n",
    "            dp[i+1][w]=max(dp[i][w-weight[i]]+value[i], dp[i][w])\n",
    "          else: #入る可能性はない\n",
    "            dp[i+1][w]=dp[i][w]\n",
    "    return dp[N][W]\n",
    "\n",
    "print(knapsack(N,W,weight, value))\n",
    "\n"
   ]
  },
  {
   "cell_type": "code",
   "execution_count": 11,
   "metadata": {},
   "outputs": [
    {
     "name": "stdout",
     "output_type": "stream",
     "text": [
      "1\n"
     ]
    },
    {
     "ename": "ValueError",
     "evalue": "not enough values to unpack (expected 2, got 1)",
     "output_type": "error",
     "traceback": [
      "\u001b[0;31m---------------------------------------------------------------------------\u001b[0m",
      "\u001b[0;31mValueError\u001b[0m                                Traceback (most recent call last)",
      "\u001b[0;32m<ipython-input-11-5bfc63dac2cb>\u001b[0m in \u001b[0;36m<module>\u001b[0;34m\u001b[0m\n\u001b[1;32m      1\u001b[0m \u001b[0;31m# D\u001b[0m\u001b[0;34m\u001b[0m\u001b[0;34m\u001b[0m\u001b[0;34m\u001b[0m\u001b[0m\n\u001b[0;32m----> 2\u001b[0;31m \u001b[0mN\u001b[0m\u001b[0;34m,\u001b[0m \u001b[0mW\u001b[0m \u001b[0;34m=\u001b[0m \u001b[0mmap\u001b[0m\u001b[0;34m(\u001b[0m\u001b[0mint\u001b[0m\u001b[0;34m,\u001b[0m \u001b[0minput\u001b[0m\u001b[0;34m(\u001b[0m\u001b[0;34m)\u001b[0m\u001b[0;34m.\u001b[0m\u001b[0msplit\u001b[0m\u001b[0;34m(\u001b[0m\u001b[0;34m)\u001b[0m\u001b[0;34m)\u001b[0m\u001b[0;34m\u001b[0m\u001b[0;34m\u001b[0m\u001b[0m\n\u001b[0m\u001b[1;32m      3\u001b[0m \u001b[0;34m\u001b[0m\u001b[0m\n\u001b[1;32m      4\u001b[0m \u001b[0;32mimport\u001b[0m \u001b[0mnumpy\u001b[0m \u001b[0;32mas\u001b[0m \u001b[0mnp\u001b[0m\u001b[0;34m\u001b[0m\u001b[0;34m\u001b[0m\u001b[0m\n\u001b[1;32m      5\u001b[0m \u001b[0mdp\u001b[0m \u001b[0;34m=\u001b[0m \u001b[0mnp\u001b[0m\u001b[0;34m.\u001b[0m\u001b[0mzeros\u001b[0m\u001b[0;34m(\u001b[0m\u001b[0mW\u001b[0m\u001b[0;34m+\u001b[0m\u001b[0;36m1\u001b[0m\u001b[0;34m,\u001b[0m \u001b[0mdtype\u001b[0m\u001b[0;34m=\u001b[0m\u001b[0;34m\"int64\"\u001b[0m\u001b[0;34m)\u001b[0m\u001b[0;34m\u001b[0m\u001b[0;34m\u001b[0m\u001b[0m\n",
      "\u001b[0;31mValueError\u001b[0m: not enough values to unpack (expected 2, got 1)"
     ]
    }
   ],
   "source": [
    "# D\n",
    "N, W = map(int, input().split())\n",
    "\n",
    "import numpy as np\n",
    "dp = np.zeros(W+1, dtype=\"int64\")\n",
    "\n",
    "for i in range(1, N+1):\n",
    "    w, v = map(int, input().split())\n",
    "    dp[w:] = np.maximum(dp[w:], dp[0:W-w+1] + v)\n",
    "\n",
    "print(dp[-1])"
   ]
  }
 ],
 "metadata": {
  "kernelspec": {
   "display_name": "Python 3",
   "language": "python",
   "name": "python3"
  },
  "language_info": {
   "codemirror_mode": {
    "name": "ipython",
    "version": 3
   },
   "file_extension": ".py",
   "mimetype": "text/x-python",
   "name": "python",
   "nbconvert_exporter": "python",
   "pygments_lexer": "ipython3",
   "version": "3.8.1"
  }
 },
 "nbformat": 4,
 "nbformat_minor": 4
}
