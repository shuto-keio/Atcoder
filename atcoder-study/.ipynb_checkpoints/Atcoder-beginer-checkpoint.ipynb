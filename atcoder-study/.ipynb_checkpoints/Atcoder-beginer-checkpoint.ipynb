{
 "cells": [
  {
   "cell_type": "markdown",
   "metadata": {},
   "source": [
    "# [AtCoder 版！蟻本 (初級編)](https://qiita.com/drken/items/e77685614f3c6bf86f440)"
   ]
  },
  {
   "cell_type": "markdown",
   "metadata": {},
   "source": [
    "## 例題 1-1-1　(ハードルの上がった) くじびき ＜難問！！！！！＞"
   ]
  },
  {
   "cell_type": "markdown",
   "metadata": {},
   "source": [
    "\n",
    "[JOI 2007 本選 C ダーツ](https://atcoder.jp/contests/joi2008ho/tasks/joi2008ho_c)  \n",
    "[回答見本](https://atcoder.jp/contests/joi2008ho/submissions/7729501)  \n",
    "\n",
    "- 2分探索x2で計算量を減らす\n",
    "- bisectにより高速化\n",
    "[Python標準ライブラリ：順序維持のbisect](https://qiita.com/ta7uw/items/d6d8f0ddb215c3677cd3)"
   ]
  },
  {
   "cell_type": "code",
   "execution_count": 17,
   "metadata": {},
   "outputs": [
    {
     "name": "stdout",
     "output_type": "stream",
     "text": [
      "q\n"
     ]
    },
    {
     "ename": "ValueError",
     "evalue": "invalid literal for int() with base 10: 'q'",
     "output_type": "error",
     "traceback": [
      "\u001b[0;31m---------------------------------------------------------------------------\u001b[0m",
      "\u001b[0;31mValueError\u001b[0m                                Traceback (most recent call last)",
      "\u001b[0;32m<ipython-input-17-f23b0af5c167>\u001b[0m in \u001b[0;36m<module>\u001b[0;34m\u001b[0m\n\u001b[0;32m----> 1\u001b[0;31m \u001b[0mN\u001b[0m\u001b[0;34m,\u001b[0m \u001b[0mM\u001b[0m \u001b[0;34m=\u001b[0m \u001b[0mmap\u001b[0m\u001b[0;34m(\u001b[0m\u001b[0mint\u001b[0m\u001b[0;34m,\u001b[0m \u001b[0minput\u001b[0m\u001b[0;34m(\u001b[0m\u001b[0;34m)\u001b[0m\u001b[0;34m.\u001b[0m\u001b[0msplit\u001b[0m\u001b[0;34m(\u001b[0m\u001b[0;34m)\u001b[0m\u001b[0;34m)\u001b[0m\u001b[0;34m\u001b[0m\u001b[0;34m\u001b[0m\u001b[0m\n\u001b[0m\u001b[1;32m      2\u001b[0m \u001b[0mP\u001b[0m \u001b[0;34m=\u001b[0m \u001b[0;34m[\u001b[0m\u001b[0;34m]\u001b[0m\u001b[0;34m\u001b[0m\u001b[0;34m\u001b[0m\u001b[0m\n\u001b[1;32m      3\u001b[0m \u001b[0;32mfor\u001b[0m \u001b[0mi\u001b[0m \u001b[0;32min\u001b[0m \u001b[0mrange\u001b[0m\u001b[0;34m(\u001b[0m\u001b[0mN\u001b[0m\u001b[0;34m)\u001b[0m\u001b[0;34m:\u001b[0m\u001b[0;34m\u001b[0m\u001b[0;34m\u001b[0m\u001b[0m\n\u001b[1;32m      4\u001b[0m     \u001b[0mP\u001b[0m\u001b[0;34m.\u001b[0m\u001b[0mappend\u001b[0m\u001b[0;34m(\u001b[0m\u001b[0mint\u001b[0m\u001b[0;34m(\u001b[0m\u001b[0minput\u001b[0m\u001b[0;34m(\u001b[0m\u001b[0;34m)\u001b[0m\u001b[0;34m)\u001b[0m\u001b[0;34m)\u001b[0m\u001b[0;34m\u001b[0m\u001b[0;34m\u001b[0m\u001b[0m\n",
      "\u001b[0;31mValueError\u001b[0m: invalid literal for int() with base 10: 'q'"
     ]
    }
   ],
   "source": [
    "N, M = map(int, input().split())\n",
    "P = []\n",
    "for i in range(N):\n",
    "    P.append(int(input()))"
   ]
  },
  {
   "cell_type": "code",
   "execution_count": 71,
   "metadata": {},
   "outputs": [],
   "source": [
    "# ans=48\n",
    "N = 4\n",
    "M = 50\n",
    "P = [3, 14, 15, 9]"
   ]
  },
  {
   "cell_type": "code",
   "execution_count": null,
   "metadata": {},
   "outputs": [],
   "source": [
    "# ans=20\n",
    "N = 3\n",
    "M = 21\n",
    "P = [16, 11, 2]"
   ]
  },
  {
   "cell_type": "code",
   "execution_count": 55,
   "metadata": {},
   "outputs": [
    {
     "name": "stdout",
     "output_type": "stream",
     "text": [
      "48\n"
     ]
    }
   ],
   "source": [
    "# O(N^4)\n",
    "# TLE\n",
    "P.append(0)\n",
    "\n",
    "score = 0\n",
    "for i in range(len(P)):\n",
    "    for j in range(len(P)):\n",
    "        for k in range(len(P)):\n",
    "            for l in range(len(P)):\n",
    "                tmp = P[i]+ P[j] + P[k] + P[l]\n",
    "                if tmp <= M:\n",
    "                    if score < tmp:\n",
    "                        score = tmp\n",
    "print(score)"
   ]
  },
  {
   "cell_type": "code",
   "execution_count": 138,
   "metadata": {
    "scrolled": true
   },
   "outputs": [
    {
     "name": "stdout",
     "output_type": "stream",
     "text": [
      "4 50\n",
      "3\n",
      "14\n",
      "15\n",
      "9\n",
      "48\n"
     ]
    }
   ],
   "source": [
    "# O(N^3 log N)\n",
    "#TLE\n",
    "import itertools\n",
    "N, M = map(int, input().split())\n",
    "P = []\n",
    "for i in range(N):\n",
    "    P.append(int(input()))\n",
    "P.append(0)\n",
    "\n",
    "list1 = []\n",
    "for i, j, k in itertools.product(range(len(P)), repeat=3):\n",
    "    list1.append(P[i] + P[j] + P[k])\n",
    "list1.sort()\n",
    "flag = 0\n",
    "max_score = 0\n",
    "\n",
    "for i in range(len(P)):\n",
    "    if flag==1:\n",
    "        break\n",
    "    value = M - P[i]\n",
    "\n",
    "    low = 0\n",
    "    high = len(list1) - 1\n",
    "    while(1):\n",
    "        if high-low<=1:\n",
    "            num1 = value - list1[low]\n",
    "            num2 = value - list1[high]\n",
    "            if num1<0:\n",
    "                tmp = P[i] + list1[high]\n",
    "            else:\n",
    "                tmp = P[i] + list1[low]\n",
    "            if max_score < tmp and tmp<=M:\n",
    "                max_score = tmp\n",
    "            break\n",
    "\n",
    "        index = (low+high)//2\n",
    "        if list1[index]<value:\n",
    "            low = index\n",
    "        elif list1[index]>value:\n",
    "            high = index\n",
    "        else:\n",
    "            flag = 1\n",
    "            break\n",
    "\n",
    "if flag==1:\n",
    "    print(M)\n",
    "else:\n",
    "    print(max_score)"
   ]
  },
  {
   "cell_type": "code",
   "execution_count": 147,
   "metadata": {},
   "outputs": [
    {
     "name": "stdout",
     "output_type": "stream",
     "text": [
      "4 50\n",
      "3\n",
      "14\n",
      "15\n",
      "9\n",
      "48\n"
     ]
    }
   ],
   "source": [
    "# O(N^3log N)\n",
    "# TLE\n",
    "import itertools\n",
    "N, M = map(int, input().split())\n",
    "P = []\n",
    "for i in range(N):\n",
    "    P.append(int(input()))\n",
    "P.append(0)\n",
    " \n",
    "list1 = []\n",
    "for i, j in itertools.product(range(len(P)), repeat=2):\n",
    "    list1.append(P[i] + P[j])\n",
    "list1.sort()\n",
    "flag = 0\n",
    "max_score = 0\n",
    " \n",
    "for i in range(len(list1)):\n",
    "    if flag==1:\n",
    "        break\n",
    "    value = M - list1[i]\n",
    " \n",
    "    low = 0\n",
    "    high = len(list1) - 1\n",
    "    while(1):\n",
    "        if high-low<=1:\n",
    "            num1 = value - list1[low]\n",
    "            num2 = value - list1[high]\n",
    "            if num1<0:\n",
    "                tmp = list1[i] + list1[high]\n",
    "            else:\n",
    "                tmp = list1[i] + list1[low]\n",
    "            if max_score < tmp and tmp<=M:\n",
    "                max_score = tmp\n",
    "            break\n",
    " \n",
    "        index = (low+high)//2\n",
    "        if list1[index]<value:\n",
    "            low = index\n",
    "        elif list1[index]>value:\n",
    "            high = index\n",
    "        else:\n",
    "            flag = 1\n",
    "            break\n",
    " \n",
    "if flag==1:\n",
    "    print(M)\n",
    "else:\n",
    "    print(max_score)"
   ]
  },
  {
   "cell_type": "code",
   "execution_count": 153,
   "metadata": {},
   "outputs": [
    {
     "name": "stdout",
     "output_type": "stream",
     "text": [
      "4 50\n",
      "3\n",
      "14\n",
      "15\n",
      "9\n",
      "48\n"
     ]
    }
   ],
   "source": [
    "#O(N^3log N)\n",
    "# AC\n",
    "import itertools\n",
    "import bisect\n",
    "\n",
    "N, M = map(int, input().split())\n",
    "P = []\n",
    "for i in range(N):\n",
    "    P.append(int(input()))\n",
    "P.append(0)\n",
    "\n",
    "se = set()\n",
    "for i, j in itertools.product(range(len(P)), repeat=2):\n",
    "    se.add(P[i] + P[j])\n",
    "se = list(se)\n",
    "se.sort()\n",
    "\n",
    "max_score = 0\n",
    "\n",
    "for i in se:\n",
    "    if M-i>=0:\n",
    "        x = bisect.bisect_right(se, M-i)\n",
    "        max_score = max(max_score, i+se[x-1])\n",
    "print(max_score)"
   ]
  },
  {
   "cell_type": "markdown",
   "metadata": {},
   "source": [
    "## 例題 1-6-1　三角形"
   ]
  },
  {
   "cell_type": "markdown",
   "metadata": {},
   "source": [
    "[ARC 004 A 2点間距離の最大値](https://atcoder.jp/contests/arc004/tasks/arc004_1)  "
   ]
  },
  {
   "cell_type": "code",
   "execution_count": 166,
   "metadata": {},
   "outputs": [
    {
     "name": "stdout",
     "output_type": "stream",
     "text": [
      "3\n",
      "1 1\n",
      "2 4\n",
      "4 3\n"
     ]
    }
   ],
   "source": [
    "N = int(input())\n",
    "\n",
    "P = [list(map(int, input().split())) for _ in range(N)]"
   ]
  },
  {
   "cell_type": "code",
   "execution_count": 160,
   "metadata": {},
   "outputs": [],
   "source": [
    "N = 3\n",
    "x = [1, 2, 4]\n",
    "y = [1, 4, 3]"
   ]
  },
  {
   "cell_type": "code",
   "execution_count": 167,
   "metadata": {},
   "outputs": [
    {
     "name": "stdout",
     "output_type": "stream",
     "text": [
      "3\n",
      "1 1\n",
      "2 4\n",
      "4 3\n",
      "3.605551275463989\n"
     ]
    }
   ],
   "source": [
    "# O(N^2) AC\n",
    "import itertools\n",
    "N = int(input())\n",
    "P = [list(map(int, input().split())) for _ in range(N)]\n",
    "\n",
    "length = 0 \n",
    "for i, j in itertools.permutations(range(N), 2):\n",
    "    tmp = ((P[i][0]-P[j][0])**2 + (P[i][1]-P[j][1])**2)**0.5\n",
    "    length = max(length, tmp)\n",
    "print(length)"
   ]
  },
  {
   "cell_type": "markdown",
   "metadata": {},
   "source": [
    "[ABC 051 B Sum of Three Integers](https://atcoder.jp/contests/abc051/tasks/abc051_b)\n",
    "- ３重ループを2重ループに減らす作業を行う"
   ]
  },
  {
   "cell_type": "code",
   "execution_count": 46,
   "metadata": {},
   "outputs": [
    {
     "name": "stdout",
     "output_type": "stream",
     "text": [
      "5 15\n",
      "1\n"
     ]
    }
   ],
   "source": [
    "# N^2\n",
    "# AC\n",
    "K, S = map(int, input().split())\n",
    "\n",
    "K+=1\n",
    "\n",
    "count=0\n",
    "for i in range(K):\n",
    "    for j in range(0, K):\n",
    "        tmp = S - (i + j)\n",
    "        if tmp>=0 and tmp<K:\n",
    "            count+=1\n",
    "#             print(i,j,tmp)\n",
    "\n",
    "print(count)"
   ]
  },
  {
   "cell_type": "markdown",
   "metadata": {},
   "source": [
    "[ABC 085 C Otoshidama](https://atcoder.jp/contests/abc085/tasks/abc085_c)  \n",
    "- a"
   ]
  },
  {
   "cell_type": "code",
   "execution_count": 70,
   "metadata": {},
   "outputs": [
    {
     "name": "stdout",
     "output_type": "stream",
     "text": [
      "20 196000\n",
      "-1 -1 -1\n"
     ]
    }
   ],
   "source": [
    "# N^2\n",
    "# AC\n",
    "\n",
    "N, Y = map(int, input().split())\n",
    "\n",
    "flag=0\n",
    "for i in range(max(Y//10000, N) + 1):\n",
    "\n",
    "    balance = Y - i*10000\n",
    "    for j in range(max(balance//5000, N-i) +1):\n",
    "        balance = Y - i*10000 - j*5000\n",
    "        k = balance // 1000\n",
    "        \n",
    "#         print(i,j,k)\n",
    "        if (k+j+i)==N:\n",
    "            flag=1\n",
    "            break\n",
    "    if flag==1:\n",
    "        break\n",
    "\n",
    "\n",
    "if flag==1:\n",
    "    print(i, j, k) \n",
    "else:\n",
    "    print(\"-1 -1 -1\")"
   ]
  },
  {
   "cell_type": "markdown",
   "metadata": {},
   "source": [
    "## 例題 1-6-2　Ants (POJ No.1852)"
   ]
  },
  {
   "cell_type": "code",
   "execution_count": null,
   "metadata": {},
   "outputs": [],
   "source": [
    "N, L, T = map(int, input().split())\n",
    "\n",
    "X = []\n",
    "W = []\n",
    "for i in range(N):\n",
    "    tmp1, tmp2 = map(int, input().split())\n",
    "    X.append(tmp1)\n",
    "    W.append(tmp2)\n",
    "\n",
    "    \n",
    "\n",
    "    "
   ]
  }
 ],
 "metadata": {
  "kernelspec": {
   "display_name": "Python 3",
   "language": "python",
   "name": "python3"
  },
  "language_info": {
   "codemirror_mode": {
    "name": "ipython",
    "version": 3
   },
   "file_extension": ".py",
   "mimetype": "text/x-python",
   "name": "python",
   "nbconvert_exporter": "python",
   "pygments_lexer": "ipython3",
   "version": "3.7.1"
  }
 },
 "nbformat": 4,
 "nbformat_minor": 2
}
