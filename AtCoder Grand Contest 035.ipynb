{
 "cells": [
  {
   "cell_type": "code",
   "execution_count": 42,
   "metadata": {},
   "outputs": [
    {
     "name": "stdout",
     "output_type": "stream",
     "text": [
      "6\n",
      "1 2 3 1 2 3\n",
      "Yes\n"
     ]
    }
   ],
   "source": [
    "# A\n",
    "\n",
    "N = int(input())\n",
    "a_all = list(map(int, input().split()))\n",
    "t = list(set(a_all))\n",
    "\n",
    "if len(t)==3:\n",
    "    if (t[0]^t[1]==t[2]):\n",
    "        a=0\n",
    "        b=0\n",
    "        c=0\n",
    "        for i in a_all:\n",
    "            if i==t[0]:\n",
    "                a+=1\n",
    "            elif i==t[1]:\n",
    "                b+=1\n",
    "            else:\n",
    "                c+=1\n",
    "        if a==b and b==c:\n",
    "            print(\"Yes\")\n",
    "        else:\n",
    "            print(\"No\")\n",
    "    \n",
    "    else:\n",
    "        print(\"No\")\n",
    "    \n",
    "    \n",
    "elif len(t)==2:\n",
    "    a=0\n",
    "    b=0\n",
    "    for i in a_all:\n",
    "        if i==t[0]:\n",
    "            a+=1\n",
    "        else:\n",
    "            b+=1\n",
    "    if(a == b*2 or  b == a*2):\n",
    "        print(\"Yes\")\n",
    "    else:\n",
    "        print(\"No\")\n",
    "elif len(t)==1:\n",
    "    if t[0]^t[0]==t[0]:\n",
    "        print(\"Yes\")\n",
    "    else:\n",
    "        print(\"No\")\n",
    "\n",
    "else:\n",
    "    print(\"No\")"
   ]
  },
  {
   "cell_type": "code",
   "execution_count": 35,
   "metadata": {},
   "outputs": [
    {
     "data": {
      "text/plain": [
       "1"
      ]
     },
     "execution_count": 35,
     "metadata": {},
     "output_type": "execute_result"
    }
   ],
   "source": [
    "# B\n"
   ]
  }
 ],
 "metadata": {
  "kernelspec": {
   "display_name": "Python 3",
   "language": "python",
   "name": "python3"
  },
  "language_info": {
   "codemirror_mode": {
    "name": "ipython",
    "version": 3
   },
   "file_extension": ".py",
   "mimetype": "text/x-python",
   "name": "python",
   "nbconvert_exporter": "python",
   "pygments_lexer": "ipython3",
   "version": "3.6.5"
  },
  "varInspector": {
   "cols": {
    "lenName": 16,
    "lenType": 16,
    "lenVar": 40
   },
   "kernels_config": {
    "python": {
     "delete_cmd_postfix": "",
     "delete_cmd_prefix": "del ",
     "library": "var_list.py",
     "varRefreshCmd": "print(var_dic_list())"
    },
    "r": {
     "delete_cmd_postfix": ") ",
     "delete_cmd_prefix": "rm(",
     "library": "var_list.r",
     "varRefreshCmd": "cat(var_dic_list()) "
    }
   },
   "types_to_exclude": [
    "module",
    "function",
    "builtin_function_or_method",
    "instance",
    "_Feature"
   ],
   "window_display": false
  }
 },
 "nbformat": 4,
 "nbformat_minor": 2
}
