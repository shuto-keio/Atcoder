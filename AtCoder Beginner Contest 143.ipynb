{
 "cells": [
  {
   "cell_type": "code",
   "execution_count": null,
   "metadata": {},
   "outputs": [],
   "source": [
    "# A\n",
    "A, B = map(int, input().split())\n",
    "\n",
    "value =  A-2*B\n",
    "if value>=0:\n",
    "    print(value)\n",
    "else:\n",
    "    print(0)"
   ]
  },
  {
   "cell_type": "code",
   "execution_count": null,
   "metadata": {},
   "outputs": [],
   "source": [
    "# B\n",
    "import itertools\n",
    "N = map(int, input().split())\n",
    "d = list(map(int, input().split()))\n",
    "\n",
    "value = 0\n",
    "for i in itertools.combinations(d, 2):\n",
    "    value += i[0]*i[1]\n",
    "print(value)\n",
    "    \n",
    "    \n"
   ]
  },
  {
   "cell_type": "code",
   "execution_count": null,
   "metadata": {},
   "outputs": [],
   "source": [
    "#C\n",
    "N = map(int, input().split())\n",
    "S = list(str(input()))\n",
    "\n",
    "\n",
    "if len(S)==1:\n",
    "    print(1)\n",
    "else:\n",
    "    value=1\n",
    "    tmp = S[0]\n",
    "    for i in S[1:]:\n",
    "        if i==tmp:\n",
    "            continue\n",
    "        else:\n",
    "            tmp=i\n",
    "            value+=1\n",
    "    print(value)"
   ]
  },
  {
   "cell_type": "code",
   "execution_count": 11,
   "metadata": {},
   "outputs": [
    {
     "name": "stdout",
     "output_type": "stream",
     "text": [
      "213\n",
      "218 786 704 233 645 728 389\n",
      "(218, 786, 704)\n",
      "(218, 786, 233)\n",
      "(218, 786, 645)\n",
      "(218, 786, 728)\n",
      "(218, 786, 389)\n",
      "(218, 704, 233)\n",
      "(218, 704, 645)\n",
      "(218, 704, 728)\n",
      "(218, 704, 389)\n",
      "(218, 233, 645)\n",
      "(218, 233, 728)\n",
      "(218, 233, 389)\n",
      "(218, 645, 728)\n",
      "(218, 645, 389)\n",
      "(218, 728, 389)\n",
      "(786, 704, 233)\n",
      "(786, 704, 645)\n",
      "(786, 704, 728)\n",
      "(786, 704, 389)\n",
      "(786, 233, 645)\n",
      "(786, 233, 728)\n",
      "(786, 233, 389)\n",
      "(786, 645, 728)\n",
      "(786, 645, 389)\n",
      "(786, 728, 389)\n",
      "(704, 233, 645)\n",
      "(704, 233, 728)\n",
      "(704, 233, 389)\n",
      "(704, 645, 728)\n",
      "(704, 645, 389)\n",
      "(704, 728, 389)\n",
      "(233, 645, 728)\n",
      "(233, 645, 389)\n",
      "(233, 728, 389)\n",
      "(645, 728, 389)\n",
      "23\n"
     ]
    }
   ],
   "source": [
    "# D TLE\n",
    "import itertools\n",
    "N = map(int, input().split())\n",
    "L = list(map(int, input().split()))\n",
    " \n",
    "value = 0\n",
    "for i in itertools.combinations(L, 2):\n",
    "    a, b, c = i\n",
    "    print(i)\n",
    "    if a<b+c:\n",
    "        if b<c+a:\n",
    "            if c<a+b:\n",
    "                value+=1\n",
    "print(value)"
   ]
  },
  {
   "cell_type": "code",
   "execution_count": 10,
   "metadata": {},
   "outputs": [
    {
     "name": "stdout",
     "output_type": "stream",
     "text": [
      "7\n",
      "218 786 704 233 645 728 389\n",
      "23\n"
     ]
    }
   ],
   "source": [
    "# D TLE\n",
    "N = map(int, input().split())\n",
    "L = list(map(int, input().split()))\n",
    "\n",
    "L.sort()\n",
    "\n",
    "value = 0\n",
    "for i in range(len(L)-2):\n",
    "    for j in range(i+1, len(L)-1):\n",
    "        for k in range(j+1, len(L)):\n",
    "            a = L[i]\n",
    "            b = L[j]\n",
    "            c = L[k]\n",
    "            if c < a+b:\n",
    "                if a < c+b:\n",
    "                    if b < c+a:\n",
    "                        value+=1\n",
    "            else:\n",
    "                break\n",
    "                \n",
    "\n",
    "print(value)"
   ]
  },
  {
   "cell_type": "code",
   "execution_count": 18,
   "metadata": {},
   "outputs": [
    {
     "name": "stdout",
     "output_type": "stream",
     "text": [
      "4\n",
      "3 4 2 1\n",
      "1\n"
     ]
    }
   ],
   "source": [
    "# D TLE\n",
    "import itertools\n",
    "import bisect\n",
    "\n",
    "N = map(int, input().split())\n",
    "L = list(map(int, input().split()))\n",
    "\n",
    "L.sort()\n",
    "value = 0\n",
    "\n",
    "\n",
    "for i, j in itertools.combinations(range(len(L)-1), 2):\n",
    "    index = bisect.bisect_left(L[j+1:], L[i]+L[j])\n",
    "    value+=index\n",
    "\n",
    "print(value)"
   ]
  },
  {
   "cell_type": "code",
   "execution_count": null,
   "metadata": {},
   "outputs": [],
   "source": [
    "# D TLE\n",
    "import itertools\n",
    "import bisect\n",
    "\n",
    "N = map(int, input().split())\n",
    "L = list(map(int, input().split()))\n",
    "\n",
    "L.sort()\n",
    "value = 0\n",
    "\n",
    "\n",
    "for i, j in itertools.combinations(range(len(L)-1), 2):\n",
    "    index = bisect.bisect_left(L[j+1:], L[i]+L[j])\n",
    "    value+=index\n",
    "\n",
    "print(value)"
   ]
  },
  {
   "cell_type": "code",
   "execution_count": 40,
   "metadata": {},
   "outputs": [
    {
     "name": "stdout",
     "output_type": "stream",
     "text": [
      "3\n",
      "1 2000 1\n",
      "0\n"
     ]
    }
   ],
   "source": [
    "# D\n",
    "\n",
    "import itertools\n",
    "n = int(input())\n",
    "l = list(map(int, input().split()))\n",
    "l.sort()\n",
    " \n",
    "from bisect import bisect_left\n",
    "ans = 0\n",
    "\n",
    "for i, j in itertools.combinations(range(len(l)),2):\n",
    "    t = l[i]+l[j]\n",
    "    idx = bisect_left(l, t)\n",
    "    ans += max(0, idx-j-1)\n",
    "print(ans)"
   ]
  },
  {
   "cell_type": "code",
   "execution_count": 32,
   "metadata": {},
   "outputs": [
    {
     "name": "stdout",
     "output_type": "stream",
     "text": [
      "4 0 1\n",
      "1\n",
      "2 1\n"
     ]
    }
   ],
   "source": [
    "### E\n",
    "N, M, L = map(int, input().split())\n",
    "\n",
    "ABC = [list(map(int, input().split())) for _ in range(M)]\n",
    "\n",
    "Q = int(input())\n",
    "\n",
    "ST = [list(map(int, input().split())) for _ in range(Q)]\n",
    "\n",
    "\n",
    "town = [10**9]*N\n",
    "town = [town] * N\n",
    "\n",
    "for i in range(len(ABC)):\n",
    "    if  town[i[0]-1][i[1]-1] < i[2]:\n",
    "        town[i[0]-1][i[1]-1] = i[2]\n",
    "\n",
    "\n",
    "\n",
    "    \n",
    "\n"
   ]
  },
  {
   "cell_type": "code",
   "execution_count": null,
   "metadata": {},
   "outputs": [],
   "source": []
  }
 ],
 "metadata": {
  "kernelspec": {
   "display_name": "Python 3",
   "language": "python",
   "name": "python3"
  },
  "language_info": {
   "codemirror_mode": {
    "name": "ipython",
    "version": 3
   },
   "file_extension": ".py",
   "mimetype": "text/x-python",
   "name": "python",
   "nbconvert_exporter": "python",
   "pygments_lexer": "ipython3",
   "version": "3.7.1"
  }
 },
 "nbformat": 4,
 "nbformat_minor": 2
}
