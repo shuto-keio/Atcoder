{
 "cells": [
  {
   "cell_type": "code",
   "execution_count": 9,
   "metadata": {},
   "outputs": [
    {
     "name": "stdout",
     "output_type": "stream",
     "text": [
      "Cloudy\n",
      "Rainy\n"
     ]
    }
   ],
   "source": [
    "# A\n",
    "\n",
    "S = input()\n",
    "\n",
    "if S==\"Sunny\":\n",
    "    print(\"Cloudy\")\n",
    "\n",
    "if S==\"Cloudy\":\n",
    "    print(\"Rainy\")\n",
    "\n",
    "if S==\"Rainy\":\n",
    "    print(\"Sunny\")"
   ]
  },
  {
   "cell_type": "code",
   "execution_count": 19,
   "metadata": {},
   "outputs": [
    {
     "name": "stdout",
     "output_type": "stream",
     "text": [
      "RDULULDURURLRDULRLR\n",
      "Yes\n"
     ]
    }
   ],
   "source": [
    "# B\n",
    "S = list(str(input()))\n",
    "\n",
    "count=0\n",
    "for i, s in enumerate(S):\n",
    "    if i%2==0:\n",
    "        if s!=\"U\" and s!=\"D\" and s!=\"R\":\n",
    "             count=1\n",
    "             break\n",
    "\n",
    "    else:\n",
    "        if s!=\"U\" and s!=\"D\" and s!=\"L\":\n",
    "             count=1\n",
    "             break\n",
    "\n",
    "if count==1:\n",
    "    print(\"No\")\n",
    "else:\n",
    "    print(\"Yes\")"
   ]
  },
  {
   "cell_type": "code",
   "execution_count": 24,
   "metadata": {},
   "outputs": [
    {
     "name": "stdout",
     "output_type": "stream",
     "text": [
      "10 13 15\n",
      "3\n",
      "1\n",
      "4\n",
      "1\n",
      "5\n",
      "9\n",
      "2\n",
      "6\n",
      "5\n",
      "3\n",
      "5\n",
      "8\n",
      "9\n",
      "7\n",
      "9\n",
      "No\n",
      "No\n",
      "No\n",
      "No\n",
      "Yes\n",
      "No\n",
      "No\n",
      "No\n",
      "Yes\n",
      "No\n"
     ]
    }
   ],
   "source": [
    "# C\n",
    "\n",
    "N, K, Q = map(int, input().split())\n",
    "\n",
    "A = [0]*N\n",
    "for i in range(Q):\n",
    "    num = int(input())\n",
    "    A[num-1] += 1\n",
    "\n",
    "for i in A:\n",
    "    if K - (Q-i)>0:\n",
    "        print(\"Yes\")\n",
    "    else:\n",
    "        print(\"No\")\n",
    "    \n",
    "\n"
   ]
  },
  {
   "cell_type": "code",
   "execution_count": 40,
   "metadata": {},
   "outputs": [
    {
     "name": "stdout",
     "output_type": "stream",
     "text": [
      "10 1\n",
      "1000000000 1000000000 1000000000 1000000000 1000000000 1000000000 1000000000 1000000000 1000000000 1000000000\n",
      "9500000000\n"
     ]
    }
   ],
   "source": [
    "# D\n",
    "N, M = map(int, input().split())\n",
    "A = list(map(int, input().split()))\n",
    "\n",
    "A.sort(reverse=True)\n",
    "for i in range(M):\n",
    "    A[0] /= 2\n",
    "\n",
    "    \n",
    "print(sum(A))"
   ]
  },
  {
   "cell_type": "code",
   "execution_count": null,
   "metadata": {},
   "outputs": [],
   "source": []
  }
 ],
 "metadata": {
  "kernelspec": {
   "display_name": "Python 3",
   "language": "python",
   "name": "python3"
  },
  "language_info": {
   "codemirror_mode": {
    "name": "ipython",
    "version": 3
   },
   "file_extension": ".py",
   "mimetype": "text/x-python",
   "name": "python",
   "nbconvert_exporter": "python",
   "pygments_lexer": "ipython3",
   "version": "3.7.1"
  }
 },
 "nbformat": 4,
 "nbformat_minor": 2
}
