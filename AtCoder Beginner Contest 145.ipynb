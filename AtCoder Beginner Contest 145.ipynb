{
 "cells": [
  {
   "cell_type": "code",
   "execution_count": 1,
   "metadata": {},
   "outputs": [
    {
     "name": "stdout",
     "output_type": "stream",
     "text": [
      "2\n",
      "4\n"
     ]
    }
   ],
   "source": [
    "# A\n",
    "a = int(input())\n",
    "print(a**2)"
   ]
  },
  {
   "cell_type": "code",
   "execution_count": 12,
   "metadata": {},
   "outputs": [
    {
     "name": "stdout",
     "output_type": "stream",
     "text": [
      "6\n",
      "abcadd\n",
      "No\n"
     ]
    }
   ],
   "source": [
    "# B\n",
    "N = int(input())\n",
    "S = list(input())\n",
    "\n",
    "if N%2==1:\n",
    "    print(\"No\")\n",
    "\n",
    "else:\n",
    "    if S[:N//2]==S[N//2:]:\n",
    "        print(\"Yes\")\n",
    "    else:\n",
    "        print(\"No\")\n"
   ]
  },
  {
   "cell_type": "code",
   "execution_count": 60,
   "metadata": {},
   "outputs": [
    {
     "name": "stdout",
     "output_type": "stream",
     "text": [
      "2\n",
      "-879 981\n",
      "-866 890\n",
      "91.92388155425118\n"
     ]
    }
   ],
   "source": [
    "### C\n",
    "from itertools import combinations\n",
    "from math import factorial\n",
    "from scipy.special import comb\n",
    "\n",
    "N = int(input())\n",
    "\n",
    "x = []\n",
    "y = []\n",
    "for i in range(N):\n",
    "    tmp = list(map(int, input().split()))\n",
    "    x.append(tmp[0])\n",
    "    y.append(tmp[1])\n",
    "\n",
    "len_all = 0\n",
    "for i, j in combinations(range(N), 2):\n",
    "    len_all += ((x[i]-x[j])**2+(y[i]-y[j])**2)**0.5\n",
    "one_ave = len_all / comb(N,2)\n",
    "\n",
    "print(one_ave*(N-1))"
   ]
  },
  {
   "cell_type": "code",
   "execution_count": 88,
   "metadata": {},
   "outputs": [
    {
     "name": "stdout",
     "output_type": "stream",
     "text": [
      "999999 999999\n"
     ]
    },
    {
     "ename": "ValueError",
     "evalue": "cannot convert float NaN to integer",
     "output_type": "error",
     "traceback": [
      "\u001b[0;31m---------------------------------------------------------------------------\u001b[0m",
      "\u001b[0;31mValueError\u001b[0m                                Traceback (most recent call last)",
      "\u001b[0;32m<ipython-input-88-b263d30cba60>\u001b[0m in \u001b[0;36m<module>\u001b[0;34m\u001b[0m\n\u001b[1;32m     27\u001b[0m     \u001b[0mprint\u001b[0m\u001b[0;34m(\u001b[0m\u001b[0;36m0\u001b[0m\u001b[0;34m)\u001b[0m\u001b[0;34m\u001b[0m\u001b[0;34m\u001b[0m\u001b[0m\n\u001b[1;32m     28\u001b[0m \u001b[0;32melse\u001b[0m\u001b[0;34m:\u001b[0m\u001b[0;34m\u001b[0m\u001b[0;34m\u001b[0m\u001b[0m\n\u001b[0;32m---> 29\u001b[0;31m     \u001b[0mprint\u001b[0m\u001b[0;34m(\u001b[0m\u001b[0mint\u001b[0m\u001b[0;34m(\u001b[0m\u001b[0mcomb\u001b[0m\u001b[0;34m(\u001b[0m\u001b[0mx\u001b[0m\u001b[0;34m+\u001b[0m\u001b[0my\u001b[0m\u001b[0;34m,\u001b[0m\u001b[0my\u001b[0m\u001b[0;34m)\u001b[0m\u001b[0;34m%\u001b[0m\u001b[0mmod\u001b[0m\u001b[0;34m)\u001b[0m\u001b[0;34m)\u001b[0m\u001b[0;34m\u001b[0m\u001b[0;34m\u001b[0m\u001b[0m\n\u001b[0m",
      "\u001b[0;31mValueError\u001b[0m: cannot convert float NaN to integer"
     ]
    }
   ],
   "source": [
    "# D\n",
    "def perm(N, k):\n",
    "    a = 1\n",
    "    for i in range(int(k)):\n",
    "        a*=N\n",
    "        N-=1\n",
    "        return a\n",
    "from math import factorial\n",
    "from scipy.special import comb\n",
    "\n",
    "mod = 10**9+7\n",
    "\n",
    "tmp = list(map(int, input().split()))\n",
    "X = tmp[0]\n",
    "Y = tmp[1]\n",
    "\n",
    "x = (2*Y-X)/3\n",
    "y = (2*X-Y)/3\n",
    "    \n",
    "    \n",
    "x%=mod\n",
    "y%=mod\n",
    "\n",
    "if not x.is_integer():\n",
    "    print(0)\n",
    "elif not y.is_integer():\n",
    "    print(0)\n",
    "else:\n",
    "    print(int(comb(x+y,y)%mod))\n"
   ]
  },
  {
   "cell_type": "code",
   "execution_count": 67,
   "metadata": {},
   "outputs": [],
   "source": [
    "def perm(N, k):\n",
    "    a = 1\n",
    "    for i in range(k):\n",
    "        a*=N\n",
    "        N-=1\n",
    "        return a"
   ]
  },
  {
   "cell_type": "code",
   "execution_count": 50,
   "metadata": {},
   "outputs": [
    {
     "data": {
      "text/plain": [
       "666666.0"
      ]
     },
     "execution_count": 50,
     "metadata": {},
     "output_type": "execute_result"
    }
   ],
   "source": [
    "perm(x+y, 1)"
   ]
  },
  {
   "cell_type": "code",
   "execution_count": 38,
   "metadata": {},
   "outputs": [
    {
     "data": {
      "text/plain": [
       "10.0"
      ]
     },
     "execution_count": 38,
     "metadata": {},
     "output_type": "execute_result"
    }
   ],
   "source": [
    "comb(5,2)"
   ]
  },
  {
   "cell_type": "code",
   "execution_count": 29,
   "metadata": {},
   "outputs": [
    {
     "data": {
      "text/plain": [
       "1.0"
      ]
     },
     "execution_count": 29,
     "metadata": {},
     "output_type": "execute_result"
    }
   ],
   "source": [
    "3/3"
   ]
  },
  {
   "cell_type": "code",
   "execution_count": null,
   "metadata": {},
   "outputs": [],
   "source": []
  }
 ],
 "metadata": {
  "kernelspec": {
   "display_name": "Python 3",
   "language": "python",
   "name": "python3"
  },
  "language_info": {
   "codemirror_mode": {
    "name": "ipython",
    "version": 3
   },
   "file_extension": ".py",
   "mimetype": "text/x-python",
   "name": "python",
   "nbconvert_exporter": "python",
   "pygments_lexer": "ipython3",
   "version": "3.7.1"
  }
 },
 "nbformat": 4,
 "nbformat_minor": 2
}
