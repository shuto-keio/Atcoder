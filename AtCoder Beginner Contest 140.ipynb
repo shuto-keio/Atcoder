{
 "cells": [
  {
   "cell_type": "code",
   "execution_count": null,
   "metadata": {},
   "outputs": [],
   "source": [
    "# A\n",
    "\n",
    "N = int(input())\n",
    "print(N**3)"
   ]
  },
  {
   "cell_type": "code",
   "execution_count": 8,
   "metadata": {},
   "outputs": [
    {
     "name": "stdout",
     "output_type": "stream",
     "text": [
      "4\n",
      "2 3 4 1\n",
      "13 5 8 24\n",
      "45 9 15\n",
      "74\n"
     ]
    }
   ],
   "source": [
    "# B\n",
    "\n",
    "N = int(input())\n",
    "A = list(map(int, input().split()))\n",
    "B = list(map(int, input().split()))\n",
    "C = list(map(int, input().split()))\n",
    "\n",
    "value = 0\n",
    "tmp = A[0]\n",
    "for i in A[1:]:\n",
    "    if (tmp+1 == i):\n",
    "        value += C[tmp-1]\n",
    "    tmp = i\n",
    "    \n",
    "\n",
    "value += sum(B)\n",
    "print(value)"
   ]
  },
  {
   "cell_type": "code",
   "execution_count": 12,
   "metadata": {},
   "outputs": [
    {
     "name": "stdout",
     "output_type": "stream",
     "text": [
      "6\n",
      "0 153 10 10 23\n",
      "[0, 0, 10, 10, 10, 23]\n",
      "53\n"
     ]
    }
   ],
   "source": [
    "# C\n",
    "\n",
    "N = int(input())\n",
    "B = list(map(int, input().split()))\n",
    "\n",
    "A = [0]*(len(B)+1)\n",
    "\n",
    "A[0] = B[0]\n",
    "for i in range(len(B)):\n",
    "    if A[i]>=B[i]:\n",
    "        A[i]=B[i]\n",
    "    A[i+1]=B[i]\n",
    "print(sum(A))"
   ]
  },
  {
   "cell_type": "code",
   "execution_count": 31,
   "metadata": {},
   "outputs": [
    {
     "name": "stdout",
     "output_type": "stream",
     "text": [
      "6 1\n",
      "LRLRRL\n",
      "5\n",
      "3\n"
     ]
    }
   ],
   "source": [
    "# D\n",
    "\n",
    "N, K = map(int, input().split())\n",
    "S = list(str(input()))\n",
    "\n",
    "length = len(S)\n",
    "point=0\n",
    "\n",
    "tmp = S[0]\n",
    "for i in range(1, len(S)):\n",
    "    if tmp==S[i]:\n",
    "        length-=1\n",
    "        point+=1\n",
    "    tmp = S[i]\n",
    "\n",
    "capacity = length-1\n",
    "point += min(capacity, K*2)\n",
    "\n",
    "# print(length)\n",
    "print(point)"
   ]
  },
  {
   "cell_type": "code",
   "execution_count": 68,
   "metadata": {},
   "outputs": [
    {
     "name": "stdout",
     "output_type": "stream",
     "text": [
      "8\n",
      "8 2 7 3 4 5 6 1\n",
      "136\n"
     ]
    }
   ],
   "source": [
    "# E\n",
    "\n",
    "N = int(input())\n",
    "P = list(map(int, input().split()))\n",
    "\n",
    "def input_list(list_):\n",
    "    P = list_\n",
    "    if len(P)==1:\n",
    "#         print(\"value:\", P)\n",
    "#         print(0)\n",
    "        return 0\n",
    "    if len(P)==2:\n",
    "#         print(\"value:\", P)\n",
    "#         print(min(P))\n",
    "        return min(P)\n",
    "\n",
    "    P_tmp = P[0:2]\n",
    "    P_tmp.sort(reverse=True)\n",
    "    value = P_tmp[1]\n",
    "#     print(\"value:\", P_tmp)\n",
    "#     print(value)\n",
    "    for i in range(2, len(P)):\n",
    "        P_tmp += [P[i]]\n",
    "        P_tmp.sort(reverse=True)\n",
    "        value += P_tmp[1]\n",
    "#         print(\"value:\", P_tmp)\n",
    "#         print(P_tmp[1])\n",
    "\n",
    "        P_tmp = P_tmp[0:2]\n",
    "    return value\n",
    "\n",
    "value2 = 0\n",
    "for i in range(len(P)):\n",
    "    value2 += input_list(P[i:])\n",
    "#     print(value2)\n",
    "\n",
    "print(value2)\n",
    "        "
   ]
  },
  {
   "cell_type": "code",
   "execution_count": null,
   "metadata": {},
   "outputs": [],
   "source": [
    "P"
   ]
  }
 ],
 "metadata": {
  "kernelspec": {
   "display_name": "Python 3",
   "language": "python",
   "name": "python3"
  },
  "language_info": {
   "codemirror_mode": {
    "name": "ipython",
    "version": 3
   },
   "file_extension": ".py",
   "mimetype": "text/x-python",
   "name": "python",
   "nbconvert_exporter": "python",
   "pygments_lexer": "ipython3",
   "version": "3.7.1"
  }
 },
 "nbformat": 4,
 "nbformat_minor": 2
}
