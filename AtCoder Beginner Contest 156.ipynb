{
 "cells": [
  {
   "cell_type": "code",
   "execution_count": 3,
   "metadata": {},
   "outputs": [
    {
     "name": "stdout",
     "output_type": "stream",
     "text": [
      "22 3051\n",
      "3051\n"
     ]
    }
   ],
   "source": [
    "# A\n",
    "N, R = map(int, input().split())\n",
    "\n",
    "if N<=9:\n",
    "    print(R + (10-N)*100)\n",
    "else:\n",
    "    print(R)"
   ]
  },
  {
   "cell_type": "code",
   "execution_count": 6,
   "metadata": {},
   "outputs": [
    {
     "name": "stdout",
     "output_type": "stream",
     "text": [
      "314159265 3\n",
      "18\n"
     ]
    }
   ],
   "source": [
    "# B\n",
    "import math\n",
    "\n",
    "N, K = map(int, input().split())\n",
    "\n",
    "a = math.floor(math.log(N, K))+1\n",
    "\n",
    "print(a)"
   ]
  },
  {
   "cell_type": "code",
   "execution_count": 15,
   "metadata": {},
   "outputs": [
    {
     "name": "stdout",
     "output_type": "stream",
     "text": [
      "7\n",
      "14 14 2 13 56 2 37\n",
      "2354\n"
     ]
    }
   ],
   "source": [
    "# C\n",
    "import numpy as np\n",
    "import math\n",
    "N = int(input())\n",
    "X = np.array(list(map(int, input().split())))\n",
    "\n",
    "P_floor = math.floor(np.sum(X)/N)\n",
    "P_ceil = math.ceil(np.sum(X)/N)\n",
    "\n",
    "ans = min(np.sum((X-P_floor)**2), np.sum((X-P_ceil)**2))\n",
    "\n",
    "print(ans)"
   ]
  },
  {
   "cell_type": "code",
   "execution_count": null,
   "metadata": {},
   "outputs": [],
   "source": [
    "# D\n",
    "def cmb(n, r, mod):\n",
    "    if n - r < r: r = n - r\n",
    "    if r == 0: return 1\n",
    "    if r == 1: return n\n",
    "    numerator = [n - r + k + 1 for k in range(r)]\n",
    "    denominator = [k + 1 for k in range(r)]\n",
    "    for p in range(2,r+1):\n",
    "        pivot = denominator[p - 1]\n",
    "        if pivot > 1:\n",
    "            offset = (n - r) % p\n",
    "            for k in range(p-1,r,p):\n",
    "                numerator[k - offset] /= pivot\n",
    "                denominator[k] /= pivot\n",
    "    result = 1\n",
    "    for k in range(r):\n",
    "        if numerator[k] > 1:\n",
    "            result *= int(numerator[k])\n",
    "            result = result % mod\n",
    "    return result\n",
    " \n",
    "n,a,b = map(int,input().split())\n",
    "ans = 0\n",
    "mod = 10**9+7\n",
    "ans = pow(2,n,mod)-1\n",
    "ma = cmb(n,a, mod)\n",
    "mb = cmb(n,b, mod)\n",
    "ans = ans-ma-mb\n",
    "ans = ans%mod\n",
    "print(ans)"
   ]
  }
 ],
 "metadata": {
  "kernelspec": {
   "display_name": "Python 3",
   "language": "python",
   "name": "python3"
  },
  "language_info": {
   "codemirror_mode": {
    "name": "ipython",
    "version": 3
   },
   "file_extension": ".py",
   "mimetype": "text/x-python",
   "name": "python",
   "nbconvert_exporter": "python",
   "pygments_lexer": "ipython3",
   "version": "3.8.1"
  }
 },
 "nbformat": 4,
 "nbformat_minor": 4
}
