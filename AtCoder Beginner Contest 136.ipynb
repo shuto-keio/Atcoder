{
 "cells": [
  {
   "cell_type": "code",
   "execution_count": 8,
   "metadata": {},
   "outputs": [
    {
     "name": "stdout",
     "output_type": "stream",
     "text": [
      "6 4 3\n",
      "1\n"
     ]
    }
   ],
   "source": [
    "#A\n",
    "\n",
    "a, b, c = map(int, input().split())\n",
    "\n",
    "if c - (a-b)<0:\n",
    "    print(0)\n",
    "else:\n",
    "    print(c - (a-b))"
   ]
  },
  {
   "cell_type": "code",
   "execution_count": 23,
   "metadata": {},
   "outputs": [
    {
     "name": "stdout",
     "output_type": "stream",
     "text": [
      "101\n",
      "11\n"
     ]
    }
   ],
   "source": [
    "#B\n",
    "\n",
    "N = int(input())\n",
    "\n",
    "N_len = len(list(str(N)))\n",
    "\n",
    "def sn(n):\n",
    "    if n==1:\n",
    "        return 9\n",
    "    else:\n",
    "        return 9 * (1-100**n)//(1-100)\n",
    "\n",
    "N_len_fix = (N_len+1)//2\n",
    "if N_len%2==0:\n",
    "    print(sn(N_len_fix))\n",
    "else:\n",
    "    print(sn(N_len_fix-1) + N - 10**(N_len-1)+1)\n",
    "\n",
    "\n"
   ]
  },
  {
   "cell_type": "code",
   "execution_count": 15,
   "metadata": {},
   "outputs": [
    {
     "name": "stdout",
     "output_type": "stream",
     "text": [
      "5\n",
      "1 2 1 1 3\n",
      "Yes\n"
     ]
    }
   ],
   "source": [
    "#C\n",
    "N = int(input())\n",
    "H = list(map(int, input().split()))\n",
    "\n",
    "\n",
    "tmp = H[0]\n",
    "count=0\n",
    "\n",
    "for i in H[1:]:\n",
    "    if tmp==i:\n",
    "        tmp=i\n",
    "        continue\n",
    "    elif tmp<i:\n",
    "        tmp = i-1\n",
    "    else:\n",
    "        count=1\n",
    "        continue\n",
    "\n",
    "\n",
    "if count==0:\n",
    "    print(\"Yes\")\n",
    "else:\n",
    "    print(\"No\")\n",
    "\n",
    "        \n",
    "    "
   ]
  },
  {
   "cell_type": "code",
   "execution_count": 61,
   "metadata": {},
   "outputs": [
    {
     "name": "stdout",
     "output_type": "stream",
     "text": [
      "RRRLLRLLRRRLLLLL\n",
      "0 0 3 2 0 1 2 0 0 0 0 0 0 0 0 0 "
     ]
    }
   ],
   "source": [
    "# D\n",
    "S = list(str(input()))\n",
    "\n",
    "S_value = [0]*len(S)\n",
    "\n",
    "index=[]\n",
    "count=[]\n",
    "count_tmp = 1\n",
    "tmp = \"R\"\n",
    "for i in range(1, len(S)):\n",
    "    if tmp==S[i]:\n",
    "        count_tmp+=1\n",
    "    else:\n",
    "        if tmp==\"R\":\n",
    "            index.append(i-1)\n",
    "        count.append(count_tmp)\n",
    "        count_tmp=1\n",
    "        tmp=S[i]\n",
    "count.append(len(S)-sum(count))\n",
    "\n",
    "\n",
    "for i in range(len(count)//2):\n",
    "    if count[i]%2==0:\n",
    "        R=count[i]//2\n",
    "        L=count[i]//2\n",
    "    else:\n",
    "        R=count[i]//2\n",
    "        L=count[i]//2+1\n",
    "    if count[i+1]%2==0:\n",
    "        R+=count[i+1]//2\n",
    "        L+=count[i+1]//2\n",
    "    else:\n",
    "        R+=count[i+1]//2\n",
    "        L+=count[i+1]//2+1\n",
    "\n",
    "count_index = 0\n",
    "tmp=0\n",
    "for i in range(len(S)):\n",
    "    if tmp==1:\n",
    "        tmp=0\n",
    "        continue\n",
    "    if count_index+1==len(index):\n",
    "        print(\"0 \", end=\"\")\n",
    "    else:\n",
    "        if i==index[count_index]:\n",
    "            print(count[count_index*2], end=\"\")\n",
    "            print(\" \", end=\"\")        \n",
    "            print(count[count_index*2+1], end=\"\")\n",
    "            print(\" \", end=\"\")\n",
    "            count_index+=1\n",
    "            tmp=1\n",
    "        else:\n",
    "            print(\"0 \", end=\"\")"
   ]
  },
  {
   "cell_type": "code",
   "execution_count": null,
   "metadata": {},
   "outputs": [],
   "source": []
  }
 ],
 "metadata": {
  "kernelspec": {
   "display_name": "Python 3",
   "language": "python",
   "name": "python3"
  },
  "language_info": {
   "codemirror_mode": {
    "name": "ipython",
    "version": 3
   },
   "file_extension": ".py",
   "mimetype": "text/x-python",
   "name": "python",
   "nbconvert_exporter": "python",
   "pygments_lexer": "ipython3",
   "version": "3.6.5"
  },
  "varInspector": {
   "cols": {
    "lenName": 16,
    "lenType": 16,
    "lenVar": 40
   },
   "kernels_config": {
    "python": {
     "delete_cmd_postfix": "",
     "delete_cmd_prefix": "del ",
     "library": "var_list.py",
     "varRefreshCmd": "print(var_dic_list())"
    },
    "r": {
     "delete_cmd_postfix": ") ",
     "delete_cmd_prefix": "rm(",
     "library": "var_list.r",
     "varRefreshCmd": "cat(var_dic_list()) "
    }
   },
   "types_to_exclude": [
    "module",
    "function",
    "builtin_function_or_method",
    "instance",
    "_Feature"
   ],
   "window_display": false
  }
 },
 "nbformat": 4,
 "nbformat_minor": 2
}
